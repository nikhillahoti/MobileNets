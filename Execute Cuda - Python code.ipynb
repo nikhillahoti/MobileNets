{
 "cells": [
  {
   "cell_type": "code",
   "execution_count": null,
   "metadata": {},
   "outputs": [],
   "source": [
    "import numpy as np\n",
    "import keras\n",
    "from keras import backend as K\n",
    "from keras.layers.core import Dense\n",
    "from keras.optimizers import Adam\n",
    "from keras.metrics import categorical_crossentropy\n",
    "from keras.preprocessing.image import ImageDataGenerator\n",
    "from keras.preprocessing import image\n",
    "from keras.models import Model\n",
    "from keras.applications import imagenet_utils\n",
    "from sklearn.metrics import confusion_matrix\n",
    "import itertools\n",
    "import tensorflow as tf\n",
    "from keras.preprocessing import image\n",
    "import numpy as np\n",
    "import keras\n",
    "import time\n",
    "import os.path\n",
    "\n",
    "import matplotlib.pyplot as plt\n",
    "%matplotlib inline"
   ]
  },
  {
   "cell_type": "code",
   "execution_count": null,
   "metadata": {
    "collapsed": true
   },
   "outputs": [],
   "source": [
    "def createInputFile(X):\n",
    "\n",
    "    fInputImage = open(\"/media/nikhil/New Volume/Works/Cuda Work/MobileNets/MobileNets/data/FirstLayer/InputFiles/inputsNorm.txt\", \"w\")\n",
    "    for i in range(len(X[0][0])):\n",
    "        for j in range(len(X)):\n",
    "            for k in range(len(X[0])):\n",
    "                fInputImage.write(str(X[j][k][i]) + \"\\n\")\n",
    "\n",
    "    fInputImage.close()\n",
    "    print(\"Input File writing complete!!!\")"
   ]
  },
  {
   "cell_type": "code",
   "execution_count": null,
   "metadata": {
    "collapsed": true
   },
   "outputs": [],
   "source": [
    "def prepare_image(file):\n",
    "    img = image.load_img(file, target_size=(224,224))\n",
    "    img_array = image.img_to_array(img)\n",
    "    W = np.array(img_array)\n",
    "    print(W.shape)\n",
    "    img_array_expanded_dims = np.expand_dims(img_array, axis=0)\n",
    "    return keras.applications.mobilenet.preprocess_input(img_array_expanded_dims)"
   ]
  },
  {
   "cell_type": "code",
   "execution_count": 10,
   "metadata": {},
   "outputs": [
    {
     "name": "stdout",
     "output_type": "stream",
     "text": [
      "(224, 224, 3)\n",
      "Input File writing complete!!!\n",
      "(1, 224, 224, 3)\n",
      "[[('n02088364', 'beagle', 0.88454795), ('n02089973', 'English_foxhound', 0.091843925), ('n02089867', 'Walker_hound', 0.020328844), ('n02090379', 'redbone', 0.0023070343), ('n02088632', 'bluetick', 0.00015791207)]]\n"
     ]
    }
   ],
   "source": [
    "fileName = \"Dog.jpg\"\n",
    "preprocessed_image = prepare_image(fileName)\n",
    "createInputFile(preprocessed_image[0])\n",
    "\n",
    "mobile = keras.applications.mobilenet.MobileNet()\n",
    "print(preprocessed_image.shape)\n",
    "predictions = mobile.predict(preprocessed_image)\n",
    "results = imagenet_utils.decode_predictions(predictions)\n",
    "print(results)"
   ]
  },
  {
   "cell_type": "code",
   "execution_count": 11,
   "metadata": {},
   "outputs": [
    {
     "name": "stdout",
     "output_type": "stream",
     "text": [
      "(1, 1000)\n",
      "1000\n"
     ]
    }
   ],
   "source": [
    "print(predictions.shape)\n",
    "print(len(predictions[0]))\n",
    "fOut = open(\"PyOutput.txt\", \"w\")\n",
    "for i in range(len(predictions[0])):\n",
    "    fOut.write(str(predictions[0][i]) + \"\\n\")\n",
    "fOut.close()"
   ]
  },
  {
   "cell_type": "code",
   "execution_count": 12,
   "metadata": {},
   "outputs": [
    {
     "name": "stdout",
     "output_type": "stream",
     "text": [
      "Python code prediction --> \n",
      "\n",
      "\n",
      "beagle\n",
      "English_foxhound\n",
      "Walker_hound\n",
      "redbone\n",
      "bluetick\n"
     ]
    }
   ],
   "source": [
    "print(\"Python code prediction --> \\n\\n\")\n",
    "for i in range(len(results[0])):\n",
    "    print(results[0][i][1])"
   ]
  },
  {
   "cell_type": "code",
   "execution_count": 13,
   "metadata": {},
   "outputs": [
    {
     "name": "stdout",
     "output_type": "stream",
     "text": [
      "<class 'numpy.ndarray'>\n",
      "(1, 1000)\n"
     ]
    }
   ],
   "source": [
    "print(type(predictions))\n",
    "print(predictions.shape)"
   ]
  },
  {
   "cell_type": "code",
   "execution_count": 14,
   "metadata": {},
   "outputs": [
    {
     "data": {
      "text/plain": [
       "CompletedProcess(args=['./MN'], returncode=0)"
      ]
     },
     "execution_count": 14,
     "metadata": {},
     "output_type": "execute_result"
    }
   ],
   "source": [
    "import subprocess\n",
    "subprocess.run([\"nvcc\", \"MobileNets_host.cu\",\"-o\",\"MN\"])\n",
    "subprocess.run([\"./MN\"])"
   ]
  },
  {
   "cell_type": "code",
   "execution_count": 15,
   "metadata": {},
   "outputs": [
    {
     "name": "stdout",
     "output_type": "stream",
     "text": [
      "(1000,)\n",
      "(1, 1000)\n",
      "Cuda code prediction --> \n",
      "\n",
      "\n",
      "beagle\n",
      "English_foxhound\n",
      "Walker_hound\n",
      "redbone\n",
      "bluetick\n"
     ]
    }
   ],
   "source": [
    "fCudaOutput = open(\"/media/nikhil/New Volume/Works/Cuda Work/MobileNets/MobileNets/data/TwentyNineLayer/output.txt\", \"r\")\n",
    "lines = fCudaOutput.readlines()\n",
    "nCudaOutput = np.array(lines)\n",
    "print(nCudaOutput.shape)\n",
    "nCudaOutput = nCudaOutput.reshape([1,1000])\n",
    "print(nCudaOutput.shape)\n",
    "results = imagenet_utils.decode_predictions(nCudaOutput)\n",
    "print(\"Cuda code prediction --> \\n\\n\")\n",
    "for i in range(len(results[0])):\n",
    "    print(results[0][i][1])\n",
    "    \n",
    "fCudaOutput.close()"
   ]
  },
  {
   "cell_type": "code",
   "execution_count": null,
   "metadata": {
    "collapsed": true
   },
   "outputs": [],
   "source": []
  },
  {
   "cell_type": "code",
   "execution_count": null,
   "metadata": {
    "collapsed": true
   },
   "outputs": [],
   "source": []
  }
 ],
 "metadata": {
  "kernelspec": {
   "display_name": "Python 3",
   "language": "python",
   "name": "python3"
  },
  "language_info": {
   "codemirror_mode": {
    "name": "ipython",
    "version": 3
   },
   "file_extension": ".py",
   "mimetype": "text/x-python",
   "name": "python",
   "nbconvert_exporter": "python",
   "pygments_lexer": "ipython3",
   "version": "3.6.8"
  }
 },
 "nbformat": 4,
 "nbformat_minor": 2
}
