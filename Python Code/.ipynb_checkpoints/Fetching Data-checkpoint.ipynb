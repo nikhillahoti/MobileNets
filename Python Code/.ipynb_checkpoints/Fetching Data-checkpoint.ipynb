{
 "cells": [
  {
   "cell_type": "code",
   "execution_count": 7,
   "metadata": {
    "collapsed": false
   },
   "outputs": [],
   "source": [
    "import numpy as np\n",
    "import keras\n",
    "from keras.models import Model\n",
    "import cv2\n",
    "import tensorflow as tf\n"
   ]
  },
  {
   "cell_type": "code",
   "execution_count": 2,
   "metadata": {
    "collapsed": true
   },
   "outputs": [],
   "source": [
    "mobile = keras.applications.mobilenet.MobileNet(weights=\"imagenet\")\n",
    "model = Model(mobile.input, mobile.output)\n"
   ]
  },
  {
   "cell_type": "code",
   "execution_count": 3,
   "metadata": {
    "collapsed": true
   },
   "outputs": [],
   "source": [
    "def saveWeights():\n",
    "    print(\"Started saving -> \")\n",
    "    f = open(\"First_Layer_Weights.txt\", \"w\")\n",
    "    layerr = model.layers[2].get_weights()\n",
    "\n",
    "    print(len(layerr[0][0][0][0]))\n",
    "    print(len(layerr))\n",
    "    for y in range(len(layerr)):\n",
    "        for l in range(len(layerr[0][0][0][0])):\n",
    "            for i in range(len(layerr[0])):\n",
    "                for j in range(len(layerr[0][0])):\n",
    "                    for k in range(len(layerr[0][0][0])):\n",
    "                        f.write(str(layerr[y][i][j][k][l]) + \"\\n\")\n",
    "    f.close()\n",
    "\n",
    "    print(\"----\")\n",
    "    print(len(layerr))\n",
    "    print(layerr[0][0][0][0][0])\n",
    "\n",
    "    import numpy as np\n",
    "    arr = np.array(layerr)\n",
    "    print(arr.shape)\n",
    "\n",
    "    print(\"Number of Layers: \", len(model.layers))\n",
    "    print(\"Saved successfully!!\")"
   ]
  },
  {
   "cell_type": "code",
   "execution_count": 4,
   "metadata": {
    "collapsed": true
   },
   "outputs": [],
   "source": [
    "def getInputImage():\n",
    "    from keras.preprocessing import image\n",
    "    img = image.load_img(\"Dog.jpg\", target_size=(224, 224))\n",
    "    img_array = image.img_to_array(img)\n",
    "    img_array_expanded_dims = np.expand_dims(img_array, axis=0)\n",
    "    return keras.applications.mobilenet.preprocess_input(img_array_expanded_dims)\n"
   ]
  },
  {
   "cell_type": "code",
   "execution_count": 5,
   "metadata": {
    "collapsed": true
   },
   "outputs": [],
   "source": [
    "def getOutput():\n",
    "    from keras.applications import imagenet_utils\n",
    "    mobile = keras.applications.mobilenet.MobileNet(weights=\"imagenet\")\n",
    "    preprocessed_image = getInputImage()\n",
    "    #print(preprocessed_image)\n",
    "    print(preprocessed_image.shape)\n",
    "\n",
    "    \"\"\"\n",
    "    fileInput = open(\"MBInput.txt\", \"w\")\n",
    "    for i in range(len(preprocessed_image)):\n",
    "        for j in range(len(preprocessed_image[0][0][0])):\n",
    "            for k in range(len(preprocessed_image[0][0])):\n",
    "                for l in range(len(preprocessed_image[0])):\n",
    "                    fileInput.write(str(preprocessed_image[i][l][k][j]) + \"\\n\")\n",
    "    fileInput.close()\n",
    "\n",
    "    #predictions = mobile.predict(preprocessed_image)\n",
    "    #results = imagenet_utils.decode_predictions(predictions)\n",
    "    #print(results)\n",
    "\n",
    "    model = Model(mobile.input, mobile.layers[2].output)\n",
    "    output =  model.predict(preprocessed_image)\n",
    "    print(output.shape)\n",
    "    file = open(\"MyOutput.txt\", \"w\")\n",
    "    for i in range(len(output)):\n",
    "        for j in range(len(output[0][0][0])):\n",
    "            for k in range(len(output[0][0])):\n",
    "                for l in range(len(output[0])):\n",
    "                    file.write(str(output[i][k][l][j]) + \"\\n\")\n",
    "    file.close()\n",
    "    \"\"\"\n"
   ]
  },
  {
   "cell_type": "code",
   "execution_count": 8,
   "metadata": {
    "collapsed": false
   },
   "outputs": [
    {
     "name": "stdout",
     "output_type": "stream",
     "text": [
      "(224, 224, 3)\n"
     ]
    },
    {
     "ename": "TypeError",
     "evalue": "Required argument 'mat' (pos 2) not found",
     "output_type": "error",
     "traceback": [
      "\u001b[0;31m---------------------------------------------------------------------------\u001b[0m",
      "\u001b[0;31mTypeError\u001b[0m                                 Traceback (most recent call last)",
      "\u001b[0;32m<ipython-input-8-17393dbaf37f>\u001b[0m in \u001b[0;36m<module>\u001b[0;34m()\u001b[0m\n\u001b[1;32m      2\u001b[0m \u001b[0mimg\u001b[0m \u001b[0;34m=\u001b[0m \u001b[0mcv2\u001b[0m\u001b[0;34m.\u001b[0m\u001b[0mimread\u001b[0m\u001b[0;34m(\u001b[0m\u001b[0;34m\"Dog.jpg\"\u001b[0m\u001b[0;34m)\u001b[0m\u001b[0;34m\u001b[0m\u001b[0m\n\u001b[1;32m      3\u001b[0m \u001b[0mprint\u001b[0m\u001b[0;34m(\u001b[0m\u001b[0mimg\u001b[0m\u001b[0;34m.\u001b[0m\u001b[0mshape\u001b[0m\u001b[0;34m)\u001b[0m\u001b[0;34m\u001b[0m\u001b[0m\n\u001b[0;32m----> 4\u001b[0;31m \u001b[0mcv2\u001b[0m\u001b[0;34m.\u001b[0m\u001b[0mimshow\u001b[0m\u001b[0;34m(\u001b[0m\u001b[0mimg\u001b[0m\u001b[0;34m)\u001b[0m\u001b[0;34m\u001b[0m\u001b[0m\n\u001b[0m",
      "\u001b[0;31mTypeError\u001b[0m: Required argument 'mat' (pos 2) not found"
     ]
    }
   ],
   "source": [
    "# Reading the Image\n",
    "img = cv2.imread(\"Dog.jpg\")\n",
    "print(img.shape)\n",
    "cv2.imshow('Doog',img)"
   ]
  },
  {
   "cell_type": "code",
   "execution_count": null,
   "metadata": {
    "collapsed": true
   },
   "outputs": [],
   "source": []
  }
 ],
 "metadata": {
  "kernelspec": {
   "display_name": "Python [conda root]",
   "language": "python",
   "name": "conda-root-py"
  },
  "language_info": {
   "codemirror_mode": {
    "name": "ipython",
    "version": 3
   },
   "file_extension": ".py",
   "mimetype": "text/x-python",
   "name": "python",
   "nbconvert_exporter": "python",
   "pygments_lexer": "ipython3",
   "version": "3.6.3"
  }
 },
 "nbformat": 4,
 "nbformat_minor": 2
}
