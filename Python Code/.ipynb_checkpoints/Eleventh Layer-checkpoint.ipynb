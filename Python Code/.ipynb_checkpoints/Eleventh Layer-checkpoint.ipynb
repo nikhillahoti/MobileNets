{
 "cells": [
  {
   "cell_type": "code",
   "execution_count": 1,
   "metadata": {},
   "outputs": [
    {
     "name": "stderr",
     "output_type": "stream",
     "text": [
      "/home/nikhil/anaconda3/lib/python3.6/site-packages/h5py/__init__.py:34: FutureWarning: Conversion of the second argument of issubdtype from `float` to `np.floating` is deprecated. In future, it will be treated as `np.float64 == np.dtype(float).type`.\n",
      "  from ._conv import register_converters as _register_converters\n",
      "Using TensorFlow backend.\n"
     ]
    }
   ],
   "source": [
    "import tensorflow as tf\n",
    "from keras.preprocessing import image\n",
    "import numpy as np\n",
    "import keras\n",
    "from keras import Model\n",
    "import time\n",
    "from keras.models import Sequential\n",
    "from keras.layers.convolutional import Conv2D\n",
    "from keras.layers.convolutional import Conv3D\n",
    "\n",
    "fileName = \"Trump.jpg\"\n",
    "\n",
    "\n",
    "\n",
    "# Global MobileNets model\n",
    "mobile = keras.applications.mobilenet.MobileNet(weights=\"imagenet\")\n",
    "model = Model(mobile.input, mobile.layers[36].output)"
   ]
  },
  {
   "cell_type": "code",
   "execution_count": 3,
   "metadata": {},
   "outputs": [
    {
     "name": "stdout",
     "output_type": "stream",
     "text": [
      "<keras.engine.input_layer.InputLayer object at 0x7f7844e856a0>\n",
      "<keras.layers.convolutional.ZeroPadding2D object at 0x7f77b6f6e160>\n",
      "<keras.layers.convolutional.Conv2D object at 0x7f77b6d9d0b8>\n",
      "<keras.layers.normalization.BatchNormalization object at 0x7f77b6562080>\n",
      "<keras.layers.advanced_activations.ReLU object at 0x7f77b6562f28>\n",
      "<keras.layers.convolutional.DepthwiseConv2D object at 0x7f77b65169e8>\n",
      "<keras.layers.normalization.BatchNormalization object at 0x7f77b44effd0>\n",
      "<keras.layers.advanced_activations.ReLU object at 0x7f77b44ca668>\n",
      "<keras.layers.convolutional.Conv2D object at 0x7f77b446c4a8>\n",
      "<keras.layers.normalization.BatchNormalization object at 0x7f77b43dd438>\n",
      "<keras.layers.advanced_activations.ReLU object at 0x7f77b4445a20>\n",
      "<keras.layers.convolutional.ZeroPadding2D object at 0x7f77b43c7c88>\n",
      "<keras.layers.convolutional.DepthwiseConv2D object at 0x7f77b4365f60>\n",
      "<keras.layers.normalization.BatchNormalization object at 0x7f77b42b96d8>\n",
      "<keras.layers.advanced_activations.ReLU object at 0x7f77b42b9908>\n",
      "<keras.layers.convolutional.Conv2D object at 0x7f77b42549e8>\n",
      "<keras.layers.normalization.BatchNormalization object at 0x7f77b41d3f60>\n",
      "<keras.layers.advanced_activations.ReLU object at 0x7f77b42030b8>\n",
      "<keras.layers.convolutional.DepthwiseConv2D object at 0x7f77b41b5a90>\n",
      "<keras.layers.normalization.BatchNormalization object at 0x7f77b4174160>\n",
      "<keras.layers.advanced_activations.ReLU object at 0x7f77b40d7fd0>\n",
      "<keras.layers.convolutional.Conv2D object at 0x7f77b4097c88>\n",
      "<keras.layers.normalization.BatchNormalization object at 0x7f77b400ee48>\n",
      "<keras.layers.advanced_activations.ReLU object at 0x7f77b4038b00>\n",
      "<keras.layers.convolutional.ZeroPadding2D object at 0x7f77ac7cf828>\n",
      "<keras.layers.convolutional.DepthwiseConv2D object at 0x7f77ac7e1d30>\n",
      "<keras.layers.normalization.BatchNormalization object at 0x7f77ac720f98>\n",
      "<keras.layers.advanced_activations.ReLU object at 0x7f77ac720fd0>\n",
      "<keras.layers.convolutional.Conv2D object at 0x7f77ac6d8240>\n",
      "<keras.layers.normalization.BatchNormalization object at 0x7f77ac697358>\n",
      "<keras.layers.advanced_activations.ReLU object at 0x7f77ac682940>\n",
      "<keras.layers.convolutional.DepthwiseConv2D object at 0x7f77ac600ba8>\n",
      "<keras.layers.normalization.BatchNormalization object at 0x7f77ac6548d0>\n",
      "<keras.layers.advanced_activations.ReLU object at 0x7f77ac5b1828>\n",
      "<keras.layers.convolutional.Conv2D object at 0x7f77ac5617b8>\n",
      "<keras.layers.normalization.BatchNormalization object at 0x7f77ac4cf5f8>\n",
      "<keras.layers.advanced_activations.ReLU object at 0x7f77ac4b9be0>\n",
      "\n",
      "\n",
      " Weight Size\n",
      "(1, 1, 1, 256, 256)\n"
     ]
    }
   ],
   "source": [
    "for layer in model.layers:\n",
    "    print(layer)\n",
    "    \n",
    "layer34 = model.layers[34]\n",
    "W = np.array(layer34.get_weights())\n",
    "\n",
    "print(\"\\n\\n Weight Size\")\n",
    "print(W.shape)"
   ]
  },
  {
   "cell_type": "code",
   "execution_count": null,
   "metadata": {
    "collapsed": true
   },
   "outputs": [],
   "source": [
    "def write_to_file_weights_layer_Eleven(fileName, W):\n",
    "    fTemp = open(fileName, \"w\")\n",
    "    for i in range(1):\n",
    "        for j in range(1):\n",
    "            for k in range(256):\n",
    "                for l in range(256):\n",
    "                    fTemp.write(str(W[i][j][l][k]) + \"\\n\")\n",
    "    fTemp.close()\n"
   ]
  },
  {
   "cell_type": "code",
   "execution_count": null,
   "metadata": {},
   "outputs": [],
   "source": [
    "for layer in model.layers:\n",
    "    print(layer)\n",
    "    \n",
    "layer34 = model.layers[34]\n",
    "W = np.array(layer34.get_weights())\n",
    "print(W.shape)\n",
    "\n",
    "W = layer34.get_weights()[0]\n",
    "write_to_file_weights_layer_ten(\"data/EleventhLayer/weightsNorm.txt\", W)\n",
    "\n",
    "W[:,:,:,:] = 1\n",
    "write_to_file_weights_layer_ten(\"data/EleventhLayer/weightsSet1.txt\", W)"
   ]
  },
  {
   "cell_type": "code",
   "execution_count": null,
   "metadata": {},
   "outputs": [],
   "source": [
    "import math as m\n",
    "layer32 = model.layers[32]\n",
    "W = np.array(layer32.get_weights())\n",
    "print(W.shape)\n",
    "\n",
    "batchNorm = model.layers[32].get_weights()\n",
    "\n",
    "fMean = open(\"data/TenthLayer/Tenth_Layer_Mean.txt\", \"w\")\n",
    "fSD = open(\"data/TenthLayer/Tenth_Layer_StanDev.txt\", \"w\")\n",
    "fGamma = open(\"data/TenthLayer/Tenth_Layer_Gamma.txt\", \"w\")\n",
    "fBeta = open(\"data/TenthLayer/Tenth_Layer_Beta.txt\", \"w\")\n",
    "\n",
    "\n",
    "for i in range(len(batchNorm[0])):\n",
    "    fGamma.write(str(float(batchNorm[0][i])) + \"\\n\")\n",
    "\n",
    "for i in range(len(batchNorm[1])):\n",
    "    fBeta.write(str(float(batchNorm[1][i])) + \"\\n\")\n",
    "\n",
    "for i in range(len(batchNorm[2])):\n",
    "    fMean.write(str(float(batchNorm[2][i])) + \"\\n\")\n",
    "\n",
    "for i in range(len(batchNorm[3])):\n",
    "    # The Value for Epsilon is assumed to be 0.001 in this implementation\n",
    "    fSD.write(str(m.sqrt(float(batchNorm[3][i]) + 0.001)) + \"\\n\")\n",
    "\n",
    "\n",
    "print(batchNorm[0])\n",
    "print(batchNorm[1])\n",
    "print(batchNorm[2])\n",
    "print(batchNorm[3])\n",
    "\n",
    "fMean.close()\n",
    "fSD.close()\n",
    "fGamma.close()\n",
    "fBeta.close()\n"
   ]
  },
  {
   "cell_type": "code",
   "execution_count": null,
   "metadata": {
    "collapsed": true
   },
   "outputs": [],
   "source": [
    "def checkFile_TenthLayer():\n",
    "    fExp = open('data/TenthLayer/Tenth_Layer_Output.txt', 'r')\n",
    "    fAct = open('data/TenthLayer/output.txt', 'r')\n",
    "    \n",
    "    cExp = fExp.readlines()\n",
    "    cAct = fAct.readlines()\n",
    "    counter = 0\n",
    "    for i in range(len(cExp)):\n",
    "         if int(round(float(cAct[i].strip()))) != int(round(float(cExp[i].strip()))):\n",
    "            counter += 1\n",
    "            if(counter < 30):\n",
    "                print(str(cAct[i].strip()) + \"--->\" + str(cExp[i].strip()))\n",
    "            \n",
    "        \n",
    "    print(\"Number of mismatch - \" + str(counter))\n",
    "    \n",
    "    fExp.close()\n",
    "    fAct.close()\n",
    "    \n",
    "        "
   ]
  },
  {
   "cell_type": "code",
   "execution_count": null,
   "metadata": {},
   "outputs": [],
   "source": [
    "checkFile_TenthLayer()"
   ]
  },
  {
   "cell_type": "code",
   "execution_count": null,
   "metadata": {
    "collapsed": true
   },
   "outputs": [],
   "source": []
  }
 ],
 "metadata": {
  "kernelspec": {
   "display_name": "Python 3",
   "language": "python",
   "name": "python3"
  },
  "language_info": {
   "codemirror_mode": {
    "name": "ipython",
    "version": 3
   },
   "file_extension": ".py",
   "mimetype": "text/x-python",
   "name": "python",
   "nbconvert_exporter": "python",
   "pygments_lexer": "ipython3",
   "version": "3.6.8"
  }
 },
 "nbformat": 4,
 "nbformat_minor": 2
}
