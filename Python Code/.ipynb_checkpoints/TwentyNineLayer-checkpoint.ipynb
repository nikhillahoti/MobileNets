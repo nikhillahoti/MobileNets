{
 "cells": [
  {
   "cell_type": "code",
   "execution_count": 4,
   "metadata": {
    "collapsed": true
   },
   "outputs": [],
   "source": [
    "import tensorflow as tf\n",
    "from keras.preprocessing import image\n",
    "import numpy as np\n",
    "import keras\n",
    "from keras import Model\n",
    "import time\n",
    "from keras.models import Sequential\n",
    "from keras.layers.convolutional import Conv2D\n",
    "from keras.layers.convolutional import Conv3D\n",
    "\n",
    "fileName = \"Trump.jpg\"\n",
    "\n",
    "\n",
    "\n",
    "# Global MobileNets model\n",
    "mobile = keras.applications.mobilenet.MobileNet(weights=\"imagenet\")\n",
    "model = Model(mobile.input, mobile.layers[92].output)"
   ]
  },
  {
   "cell_type": "code",
   "execution_count": 5,
   "metadata": {},
   "outputs": [
    {
     "name": "stdout",
     "output_type": "stream",
     "text": [
      "<keras.engine.input_layer.InputLayer object at 0x7fe0e5acb9e8>\n",
      "<keras.layers.convolutional.ZeroPadding2D object at 0x7fe0e5acb470>\n",
      "<keras.layers.convolutional.Conv2D object at 0x7fe0e5acbc50>\n",
      "<keras.layers.normalization.BatchNormalization object at 0x7fe0e5ac8860>\n",
      "<keras.layers.advanced_activations.ReLU object at 0x7fe0e7d0f0b8>\n",
      "<keras.layers.convolutional.DepthwiseConv2D object at 0x7fe0e7df8470>\n",
      "<keras.layers.normalization.BatchNormalization object at 0x7fe0e5acb748>\n",
      "<keras.layers.advanced_activations.ReLU object at 0x7fe0e5a16668>\n",
      "<keras.layers.convolutional.Conv2D object at 0x7fe0e5a3d5f8>\n",
      "<keras.layers.normalization.BatchNormalization object at 0x7fe0e59b1438>\n",
      "<keras.layers.advanced_activations.ReLU object at 0x7fe0e599aa20>\n",
      "<keras.layers.convolutional.ZeroPadding2D object at 0x7fe0e591ec88>\n",
      "<keras.layers.convolutional.DepthwiseConv2D object at 0x7fe0e593bf60>\n",
      "<keras.layers.normalization.BatchNormalization object at 0x7fe0e580b6d8>\n",
      "<keras.layers.advanced_activations.ReLU object at 0x7fe0e580b908>\n",
      "<keras.layers.convolutional.Conv2D object at 0x7fe0e58299e8>\n",
      "<keras.layers.normalization.BatchNormalization object at 0x7fe0e57a2f60>\n",
      "<keras.layers.advanced_activations.ReLU object at 0x7fe0e57510b8>\n",
      "<keras.layers.convolutional.DepthwiseConv2D object at 0x7fe0e5701a90>\n",
      "<keras.layers.normalization.BatchNormalization object at 0x7fe0e573f160>\n",
      "<keras.layers.advanced_activations.ReLU object at 0x7fe0e56a6198>\n",
      "<keras.layers.convolutional.Conv2D object at 0x7fe0e5663cc0>\n",
      "<keras.layers.normalization.BatchNormalization object at 0x7fe0e561ee10>\n",
      "<keras.layers.advanced_activations.ReLU object at 0x7fe0e5586c18>\n",
      "<keras.layers.convolutional.ZeroPadding2D object at 0x7fe0e559c1d0>\n",
      "<keras.layers.convolutional.DepthwiseConv2D object at 0x7fe0e5540e48>\n",
      "<keras.layers.normalization.BatchNormalization object at 0x7fe0e548d1d0>\n",
      "<keras.layers.advanced_activations.ReLU object at 0x7fe0e548d400>\n",
      "<keras.layers.convolutional.Conv2D object at 0x7fe0e549cfd0>\n",
      "<keras.layers.normalization.BatchNormalization object at 0x7fe0e546d710>\n",
      "<keras.layers.advanced_activations.ReLU object at 0x7fe0e5459b70>\n",
      "<keras.layers.convolutional.DepthwiseConv2D object at 0x7fe0e53dde80>\n",
      "<keras.layers.normalization.BatchNormalization object at 0x7fe0e534b6d8>\n",
      "<keras.layers.advanced_activations.ReLU object at 0x7fe0e533eb70>\n",
      "<keras.layers.convolutional.Conv2D object at 0x7fe0e52ee940>\n",
      "<keras.layers.normalization.BatchNormalization object at 0x7fe0e52acb70>\n",
      "<keras.layers.advanced_activations.ReLU object at 0x7fe0e52190b8>\n",
      "<keras.layers.convolutional.ZeroPadding2D object at 0x7fe0e51cdac8>\n",
      "<keras.layers.convolutional.DepthwiseConv2D object at 0x7fe0e5189b70>\n",
      "<keras.layers.normalization.BatchNormalization object at 0x7fe0e5108e10>\n",
      "<keras.layers.advanced_activations.ReLU object at 0x7fe0e5108eb8>\n",
      "<keras.layers.convolutional.Conv2D object at 0x7fe0e51296d8>\n",
      "<keras.layers.normalization.BatchNormalization object at 0x7fe0e5081f60>\n",
      "<keras.layers.advanced_activations.ReLU object at 0x7fe0e50e77b8>\n",
      "<keras.layers.convolutional.DepthwiseConv2D object at 0x7fe0e5069b00>\n",
      "<keras.layers.normalization.BatchNormalization object at 0x7fe0e50bf8d0>\n",
      "<keras.layers.advanced_activations.ReLU object at 0x7fe0e4f9e898>\n",
      "<keras.layers.convolutional.Conv2D object at 0x7fe0e4f4a7f0>\n",
      "<keras.layers.normalization.BatchNormalization object at 0x7fe0e4f397b8>\n",
      "<keras.layers.advanced_activations.ReLU object at 0x7fe0e4f24c18>\n",
      "<keras.layers.convolutional.DepthwiseConv2D object at 0x7fe0e4ea9f60>\n",
      "<keras.layers.normalization.BatchNormalization object at 0x7fe0e4e177b8>\n",
      "<keras.layers.advanced_activations.ReLU object at 0x7fe0e4d84c50>\n",
      "<keras.layers.convolutional.Conv2D object at 0x7fe0e4db8a20>\n",
      "<keras.layers.normalization.BatchNormalization object at 0x7fe0e4d37e10>\n",
      "<keras.layers.advanced_activations.ReLU object at 0x7fe0e4cddda0>\n",
      "<keras.layers.convolutional.DepthwiseConv2D object at 0x7fe0e4c99ba8>\n",
      "<keras.layers.normalization.BatchNormalization object at 0x7fe0e4c4f278>\n",
      "<keras.layers.advanced_activations.ReLU object at 0x7fe0e4c3b240>\n",
      "<keras.layers.convolutional.Conv2D object at 0x7fe0e4bd4470>\n",
      "<keras.layers.normalization.BatchNormalization object at 0x7fe0e4bb4f60>\n",
      "<keras.layers.advanced_activations.ReLU object at 0x7fe0e4b17dd8>\n",
      "<keras.layers.convolutional.DepthwiseConv2D object at 0x7fe0e4b34390>\n",
      "<keras.layers.normalization.BatchNormalization object at 0x7fe0e4a926a0>\n",
      "<keras.layers.advanced_activations.ReLU object at 0x7fe0e4a75630>\n",
      "<keras.layers.convolutional.Conv2D object at 0x7fe0e4a0f048>\n",
      "<keras.layers.normalization.BatchNormalization object at 0x7fe0e79bfd30>\n",
      "<keras.layers.advanced_activations.ReLU object at 0x7fe0e7b3a320>\n",
      "<keras.layers.convolutional.DepthwiseConv2D object at 0x7fe0e7ac72e8>\n",
      "<keras.layers.normalization.BatchNormalization object at 0x7fe0e5b374a8>\n",
      "<keras.layers.advanced_activations.ReLU object at 0x7fe0e5b73518>\n",
      "<keras.layers.convolutional.Conv2D object at 0x7fe0e5b53940>\n",
      "<keras.layers.normalization.BatchNormalization object at 0x7fe0e5bb6898>\n",
      "<keras.layers.advanced_activations.ReLU object at 0x7fe0e5bbe978>\n",
      "<keras.layers.convolutional.ZeroPadding2D object at 0x7fe0e5b980f0>\n",
      "<keras.layers.convolutional.DepthwiseConv2D object at 0x7fe0e5bf86d8>\n",
      "<keras.layers.normalization.BatchNormalization object at 0x7fe0e5c32c88>\n",
      "<keras.layers.advanced_activations.ReLU object at 0x7fe0e5c32908>\n",
      "<keras.layers.convolutional.Conv2D object at 0x7fe0e5c1d6a0>\n",
      "<keras.layers.normalization.BatchNormalization object at 0x7fe0e5c0a198>\n",
      "<keras.layers.advanced_activations.ReLU object at 0x7fe0e5c32828>\n",
      "<keras.layers.convolutional.DepthwiseConv2D object at 0x7fe0e5c604e0>\n",
      "<keras.layers.normalization.BatchNormalization object at 0x7fe0e5cafdd8>\n",
      "<keras.layers.advanced_activations.ReLU object at 0x7fe0e5c91c50>\n",
      "<keras.layers.convolutional.Conv2D object at 0x7fe0e5c87be0>\n",
      "<keras.layers.normalization.BatchNormalization object at 0x7fe0e5cd0518>\n",
      "<keras.layers.advanced_activations.ReLU object at 0x7fe0e5cfea58>\n",
      "<keras.layers.pooling.GlobalAveragePooling2D object at 0x7fe0e5d34470>\n",
      "<keras.layers.core.Reshape object at 0x7fe0e5d3c748>\n",
      "<keras.layers.core.Dropout object at 0x7fe0e5d3ca20>\n",
      "<keras.layers.convolutional.Conv2D object at 0x7fe0e5d0e278>\n",
      "<keras.layers.core.Activation object at 0x7fe0e5d46550>\n",
      "<keras.layers.core.Reshape object at 0x7fe0e5d5af28>\n",
      "\n",
      "\n",
      " Weight Size\n",
      "(2,)\n"
     ]
    }
   ],
   "source": [
    "for layer in model.layers:\n",
    "    print(layer)\n",
    "    \n",
    "layer90 = model.layers[90]\n",
    "W = np.array(layer90.get_weights())\n",
    "\n",
    "print(\"\\n\\n Weight Size\")\n",
    "print(W.shape)"
   ]
  },
  {
   "cell_type": "code",
   "execution_count": 22,
   "metadata": {
    "collapsed": true
   },
   "outputs": [],
   "source": [
    "def write_to_file_weights_layer_TwentyNine(fileName, W):\n",
    "    fTemp = open(fileName, \"w\")\n",
    "    for i in range(1):\n",
    "        for j in range(1):\n",
    "            for k in range(1000):\n",
    "                for l in range(1024):\n",
    "                    fTemp.write(str(W[i][j][l][k]) + \"\\n\")\n",
    "    fTemp.close()\n"
   ]
  },
  {
   "cell_type": "code",
   "execution_count": 23,
   "metadata": {
    "collapsed": true
   },
   "outputs": [],
   "source": [
    "def write_to_file_biases_layer_TwentyNine(fileName, W):\n",
    "    fTemp = open(fileName, \"w\")\n",
    "    for i in range(1000):\n",
    "        fTemp.write(str(W[i]) + \"\\n\")\n",
    "    fTemp.close()\n"
   ]
  },
  {
   "cell_type": "code",
   "execution_count": 24,
   "metadata": {
    "scrolled": true
   },
   "outputs": [
    {
     "name": "stdout",
     "output_type": "stream",
     "text": [
      "<keras.layers.convolutional.Conv2D object at 0x7fe0e5d0e278>\n",
      "(2,)\n",
      "(1, 1, 1024, 1000)\n",
      "(1000,)\n"
     ]
    }
   ],
   "source": [
    "\"\"\"for layer in model.layers:\n",
    "    print(layer)\n",
    "\"\"\"\n",
    "\n",
    "layer90 = model.layers[90]\n",
    "print(layer90)\n",
    "W = np.array(layer90.get_weights())\n",
    "print(W.shape)\n",
    "\n",
    "W = layer90.get_weights()[0]\n",
    "W1 = layer90.get_weights()[1]\n",
    "print(W.shape)\n",
    "print(W1.shape)\n",
    "write_to_file_weights_layer_TwentyNine(\"data/TwentyNineLayer/weightsNorm.txt\", W)\n",
    "\n",
    "W[:,:,:,:] = 1\n",
    "write_to_file_weights_layer_TwentyNine(\"data/TwentyNineLayer/weightsSet1.txt\", W)\n",
    "\n",
    "write_to_file_biases_layer_TwentyNine(\"data/TwentyNineLayer/biases.txt\", W1)\n"
   ]
  },
  {
   "cell_type": "code",
   "execution_count": 25,
   "metadata": {
    "collapsed": true
   },
   "outputs": [],
   "source": [
    "def checkFile_TwentyNineLayer():\n",
    "    fExp = open('data/TwentyNineLayer/TwentyNine_Layer_Output.txt', 'r')\n",
    "    fAct = open('data/TwentyNineLayer/output.txt', 'r')\n",
    "    \n",
    "    cExp = fExp.readlines()\n",
    "    cAct = fAct.readlines()\n",
    "    counter = 0\n",
    "    for i in range(len(cExp)):\n",
    "         if int(round(float(cAct[i].strip()))) != int(round(float(cExp[i].strip()))):\n",
    "            counter += 1\n",
    "            if(counter < 30):\n",
    "                print(str(cAct[i].strip()) + \"--->\" + str(cExp[i].strip()) + \" ----> \" + str(i))\n",
    "            \n",
    "        \n",
    "    print(\"Number of mismatch - \" + str(counter))\n",
    "    \n",
    "    fExp.close()\n",
    "    fAct.close()\n",
    "    \n",
    "        "
   ]
  },
  {
   "cell_type": "code",
   "execution_count": 26,
   "metadata": {},
   "outputs": [
    {
     "name": "stdout",
     "output_type": "stream",
     "text": [
      "Number of mismatch - 0\n"
     ]
    }
   ],
   "source": [
    "checkFile_TwentyNineLayer()"
   ]
  },
  {
   "cell_type": "code",
   "execution_count": null,
   "metadata": {
    "collapsed": true
   },
   "outputs": [],
   "source": []
  }
 ],
 "metadata": {
  "kernelspec": {
   "display_name": "Python 3",
   "language": "python",
   "name": "python3"
  },
  "language_info": {
   "codemirror_mode": {
    "name": "ipython",
    "version": 3
   },
   "file_extension": ".py",
   "mimetype": "text/x-python",
   "name": "python",
   "nbconvert_exporter": "python",
   "pygments_lexer": "ipython3",
   "version": "3.6.8"
  }
 },
 "nbformat": 4,
 "nbformat_minor": 2
}
