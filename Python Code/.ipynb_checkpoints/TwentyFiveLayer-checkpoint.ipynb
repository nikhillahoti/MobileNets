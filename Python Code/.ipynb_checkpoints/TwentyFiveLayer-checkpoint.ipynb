{
 "cells": [
  {
   "cell_type": "code",
   "execution_count": 3,
   "metadata": {},
   "outputs": [
    {
     "name": "stderr",
     "output_type": "stream",
     "text": [
      "/home/nikhil/anaconda3/lib/python3.6/site-packages/h5py/__init__.py:34: FutureWarning: Conversion of the second argument of issubdtype from `float` to `np.floating` is deprecated. In future, it will be treated as `np.float64 == np.dtype(float).type`.\n",
      "  from ._conv import register_converters as _register_converters\n",
      "Using TensorFlow backend.\n"
     ]
    }
   ],
   "source": [
    "import tensorflow as tf\n",
    "from keras.preprocessing import image\n",
    "import numpy as np\n",
    "import keras\n",
    "from keras import Model\n",
    "import time\n",
    "from keras.models import Sequential\n",
    "from keras.layers.convolutional import Conv2D\n",
    "from keras.layers.convolutional import Conv3D\n",
    "\n",
    "fileName = \"Trump.jpg\"\n",
    "\n",
    "\n",
    "\n",
    "# Global MobileNets model\n",
    "mobile = keras.applications.mobilenet.MobileNet(weights=\"imagenet\")\n",
    "model = Model(mobile.input, mobile.layers[80].output)"
   ]
  },
  {
   "cell_type": "code",
   "execution_count": 4,
   "metadata": {},
   "outputs": [
    {
     "name": "stdout",
     "output_type": "stream",
     "text": [
      "<keras.engine.input_layer.InputLayer object at 0x7f57d2a683c8>\n",
      "<keras.layers.convolutional.ZeroPadding2D object at 0x7f573c914128>\n",
      "<keras.layers.convolutional.Conv2D object at 0x7f573c8dd400>\n",
      "<keras.layers.normalization.BatchNormalization object at 0x7f573c75ef60>\n",
      "<keras.layers.advanced_activations.ReLU object at 0x7f573c75ee10>\n",
      "<keras.layers.convolutional.DepthwiseConv2D object at 0x7f57386e2ef0>\n",
      "<keras.layers.normalization.BatchNormalization object at 0x7f573869aeb8>\n",
      "<keras.layers.advanced_activations.ReLU object at 0x7f57386724e0>\n",
      "<keras.layers.convolutional.Conv2D object at 0x7f573860d320>\n",
      "<keras.layers.normalization.BatchNormalization object at 0x7f57386022b0>\n",
      "<keras.layers.advanced_activations.ReLU object at 0x7f57385ee898>\n",
      "<keras.layers.convolutional.ZeroPadding2D object at 0x7f5738569b00>\n",
      "<keras.layers.convolutional.DepthwiseConv2D object at 0x7f5738521240>\n",
      "<keras.layers.normalization.BatchNormalization object at 0x7f573845a550>\n",
      "<keras.layers.advanced_activations.ReLU object at 0x7f573845a780>\n",
      "<keras.layers.convolutional.Conv2D object at 0x7f5738478860>\n",
      "<keras.layers.normalization.BatchNormalization object at 0x7f5738438128>\n",
      "<keras.layers.advanced_activations.ReLU object at 0x7f5738438a58>\n",
      "<keras.layers.convolutional.DepthwiseConv2D object at 0x7f57383b7dd8>\n",
      "<keras.layers.normalization.BatchNormalization object at 0x7f5738319978>\n",
      "<keras.layers.advanced_activations.ReLU object at 0x7f5738307d30>\n",
      "<keras.layers.convolutional.Conv2D object at 0x7f57382bab00>\n",
      "<keras.layers.normalization.BatchNormalization object at 0x7f5738237f98>\n",
      "<keras.layers.advanced_activations.ReLU object at 0x7f57381dde10>\n",
      "<keras.layers.convolutional.ZeroPadding2D object at 0x7f5738198ba8>\n",
      "<keras.layers.convolutional.DepthwiseConv2D object at 0x7f5738153c18>\n",
      "<keras.layers.normalization.BatchNormalization object at 0x7f57380d3e10>\n",
      "<keras.layers.advanced_activations.ReLU object at 0x7f57380d3eb8>\n",
      "<keras.layers.convolutional.Conv2D object at 0x7f57380f56d8>\n",
      "<keras.layers.normalization.BatchNormalization object at 0x7f573804e1d0>\n",
      "<keras.layers.advanced_activations.ReLU object at 0x7f5738010ac8>\n",
      "<keras.layers.convolutional.DepthwiseConv2D object at 0x7f5738036470>\n",
      "<keras.layers.normalization.BatchNormalization object at 0x7f5728fbaef0>\n",
      "<keras.layers.advanced_activations.ReLU object at 0x7f5728f5f6a0>\n",
      "<keras.layers.convolutional.Conv2D object at 0x7f572823c630>\n",
      "<keras.layers.normalization.BatchNormalization object at 0x7f572822d470>\n",
      "<keras.layers.advanced_activations.ReLU object at 0x7f5728216a58>\n",
      "<keras.layers.convolutional.ZeroPadding2D object at 0x7f572819ccc0>\n",
      "<keras.layers.convolutional.DepthwiseConv2D object at 0x7f572813bf98>\n",
      "<keras.layers.normalization.BatchNormalization object at 0x7f57386e2c88>\n",
      "<keras.layers.advanced_activations.ReLU object at 0x7f57386e2cc0>\n",
      "<keras.layers.convolutional.Conv2D object at 0x7f57280ab828>\n",
      "<keras.layers.normalization.BatchNormalization object at 0x7f572806aa20>\n",
      "<keras.layers.advanced_activations.ReLU object at 0x7f57007b3e80>\n",
      "<keras.layers.convolutional.DepthwiseConv2D object at 0x7f57007569b0>\n",
      "<keras.layers.normalization.BatchNormalization object at 0x7f5700715048>\n",
      "<keras.layers.advanced_activations.ReLU object at 0x7f5700683fd0>\n",
      "<keras.layers.convolutional.Conv2D object at 0x7f57006b6c88>\n",
      "<keras.layers.normalization.BatchNormalization object at 0x7f5700671be0>\n",
      "<keras.layers.advanced_activations.ReLU object at 0x7f57005d8be0>\n",
      "<keras.layers.convolutional.DepthwiseConv2D object at 0x7f57005f4198>\n",
      "<keras.layers.normalization.BatchNormalization object at 0x7f57005514e0>\n",
      "<keras.layers.advanced_activations.ReLU object at 0x7f5700538438>\n",
      "<keras.layers.convolutional.Conv2D object at 0x7f57004d16d8>\n",
      "<keras.layers.normalization.BatchNormalization object at 0x7f5700448f60>\n",
      "<keras.layers.advanced_activations.ReLU object at 0x7f57004b17b8>\n",
      "<keras.layers.convolutional.DepthwiseConv2D object at 0x7f5700431ac8>\n",
      "<keras.layers.normalization.BatchNormalization object at 0x7f570040c898>\n",
      "<keras.layers.advanced_activations.ReLU object at 0x7f570036a898>\n",
      "<keras.layers.convolutional.Conv2D object at 0x7f57003167b8>\n",
      "<keras.layers.normalization.BatchNormalization object at 0x7f57002847b8>\n",
      "<keras.layers.advanced_activations.ReLU object at 0x7f57002efc18>\n",
      "<keras.layers.convolutional.DepthwiseConv2D object at 0x7f5700274f28>\n",
      "<keras.layers.normalization.BatchNormalization object at 0x7f57001e27b8>\n",
      "<keras.layers.advanced_activations.ReLU object at 0x7f5700153c18>\n",
      "<keras.layers.convolutional.Conv2D object at 0x7f57001039e8>\n",
      "<keras.layers.normalization.BatchNormalization object at 0x7f57000c2be0>\n",
      "<keras.layers.advanced_activations.ReLU object at 0x7f57000aed68>\n",
      "<keras.layers.convolutional.DepthwiseConv2D object at 0x7f5700061b70>\n",
      "<keras.layers.normalization.BatchNormalization object at 0x7f56d67dc240>\n",
      "<keras.layers.advanced_activations.ReLU object at 0x7f56d6748208>\n",
      "<keras.layers.convolutional.Conv2D object at 0x7f56d6761438>\n",
      "<keras.layers.normalization.BatchNormalization object at 0x7f56d66c3e80>\n",
      "<keras.layers.advanced_activations.ReLU object at 0x7f56d66a6da0>\n",
      "<keras.layers.convolutional.ZeroPadding2D object at 0x7f56d6643358>\n",
      "<keras.layers.convolutional.DepthwiseConv2D object at 0x7f56d6667588>\n",
      "<keras.layers.normalization.BatchNormalization object at 0x7f56d65b8358>\n",
      "<keras.layers.advanced_activations.ReLU object at 0x7f56d65b8588>\n",
      "<keras.layers.convolutional.Conv2D object at 0x7f56d655d668>\n",
      "<keras.layers.normalization.BatchNormalization object at 0x7f56d651a898>\n",
      "<keras.layers.advanced_activations.ReLU object at 0x7f56d649acc0>\n",
      "\n",
      "\n",
      " Weight Size\n",
      "(1, 1, 1, 512, 1024)\n"
     ]
    }
   ],
   "source": [
    "for layer in model.layers:\n",
    "    print(layer)\n",
    "    \n",
    "layer78 = model.layers[78]\n",
    "W = np.array(layer78.get_weights())\n",
    "\n",
    "print(\"\\n\\n Weight Size\")\n",
    "print(W.shape)"
   ]
  },
  {
   "cell_type": "code",
   "execution_count": 5,
   "metadata": {
    "collapsed": true
   },
   "outputs": [],
   "source": [
    "def write_to_file_weights_layer_TwentyFive(fileName, W):\n",
    "    fTemp = open(fileName, \"w\")\n",
    "    for i in range(1):\n",
    "        for j in range(1):\n",
    "            for k in range(1024):\n",
    "                for l in range(512):\n",
    "                    fTemp.write(str(W[i][j][l][k]) + \"\\n\")\n",
    "    fTemp.close()\n"
   ]
  },
  {
   "cell_type": "code",
   "execution_count": 6,
   "metadata": {
    "scrolled": true
   },
   "outputs": [
    {
     "name": "stdout",
     "output_type": "stream",
     "text": [
      "(1, 1, 1, 512, 1024)\n"
     ]
    }
   ],
   "source": [
    "\"\"\"for layer in model.layers:\n",
    "    print(layer)\n",
    "\"\"\"\n",
    "    \n",
    "layer78 = model.layers[78]\n",
    "W = np.array(layer78.get_weights())\n",
    "print(W.shape)\n",
    "\n",
    "W = layer78.get_weights()[0]\n",
    "write_to_file_weights_layer_TwentyFive(\"data/TwentyFiveLayer/weightsNorm.txt\", W)\n",
    "\n",
    "W[:,:,:,:] = 1\n",
    "write_to_file_weights_layer_TwentyFive(\"data/TwentyFiveLayer/weightsSet1.txt\", W)"
   ]
  },
  {
   "cell_type": "code",
   "execution_count": 5,
   "metadata": {},
   "outputs": [
    {
     "name": "stdout",
     "output_type": "stream",
     "text": [
      "(4, 1024)\n",
      "[1.6656146 1.3925942 1.271013  ... 1.1250055 1.0047609 0.8270665]\n",
      "[-1.4405429 -1.1654054  0.95993   ... -0.6182911 -0.8993718  0.9665248]\n",
      "[ 0.13638562  0.6913891   0.42542782 ... -0.08673581 -0.9567772\n",
      " -0.47628996]\n",
      "[0.37522984 0.44892654 0.36006913 ... 1.0100319  0.40744388 0.16686559]\n"
     ]
    }
   ],
   "source": [
    "import math as m\n",
    "layer79 = model.layers[79]\n",
    "W = np.array(layer79.get_weights())\n",
    "print(W.shape)\n",
    "\n",
    "batchNorm = model.layers[79].get_weights()\n",
    "\n",
    "fMean = open(\"data/TwentyFiveLayer/TwentyFive_Layer_Mean.txt\", \"w\")\n",
    "fSD = open(\"data/TwentyFiveLayer/TwentyFive_Layer_StanDev.txt\", \"w\")\n",
    "fGamma = open(\"data/TwentyFiveLayer/TwentyFive_Layer_Gamma.txt\", \"w\")\n",
    "fBeta = open(\"data/TwentyFiveLayer/TwentyFive_Layer_Beta.txt\", \"w\")\n",
    "\n",
    "\n",
    "for i in range(len(batchNorm[0])):\n",
    "    fGamma.write(str(float(batchNorm[0][i])) + \"\\n\")\n",
    "\n",
    "for i in range(len(batchNorm[1])):\n",
    "    fBeta.write(str(float(batchNorm[1][i])) + \"\\n\")\n",
    "\n",
    "for i in range(len(batchNorm[2])):\n",
    "    fMean.write(str(float(batchNorm[2][i])) + \"\\n\")\n",
    "\n",
    "for i in range(len(batchNorm[3])):\n",
    "    # The Value for Epsilon is assumed to be 0.001 in this implementation\n",
    "    fSD.write(str(m.sqrt(float(batchNorm[3][i]) + 0.001)) + \"\\n\")\n",
    "\n",
    "\n",
    "print(batchNorm[0])\n",
    "print(batchNorm[1])\n",
    "print(batchNorm[2])\n",
    "print(batchNorm[3])\n",
    "\n",
    "fMean.close()\n",
    "fSD.close()\n",
    "fGamma.close()\n",
    "fBeta.close()\n"
   ]
  },
  {
   "cell_type": "code",
   "execution_count": 6,
   "metadata": {
    "collapsed": true
   },
   "outputs": [],
   "source": [
    "def checkFile_TwentyFiveLayer():\n",
    "    fExp = open('data/TwentyFiveLayer/TwentyFive_Layer_Output.txt', 'r')\n",
    "    fAct = open('data/TwentyFiveLayer/output.txt', 'r')\n",
    "    \n",
    "    cExp = fExp.readlines()\n",
    "    cAct = fAct.readlines()\n",
    "    counter = 0\n",
    "    for i in range(len(cExp)):\n",
    "         if int(round(float(cAct[i].strip()))) != int(round(float(cExp[i].strip()))):\n",
    "            counter += 1\n",
    "            if(counter < 30):\n",
    "                print(str(cAct[i].strip()) + \"--->\" + str(cExp[i].strip()))\n",
    "            \n",
    "        \n",
    "    print(\"Number of mismatch - \" + str(counter))\n",
    "    \n",
    "    fExp.close()\n",
    "    fAct.close()\n",
    "    \n",
    "        "
   ]
  },
  {
   "cell_type": "code",
   "execution_count": 2,
   "metadata": {},
   "outputs": [
    {
     "name": "stdout",
     "output_type": "stream",
     "text": [
      "Number of mismatch - 0\n"
     ]
    }
   ],
   "source": [
    "checkFile_TwentyFiveLayer()"
   ]
  },
  {
   "cell_type": "code",
   "execution_count": null,
   "metadata": {
    "collapsed": true
   },
   "outputs": [],
   "source": []
  }
 ],
 "metadata": {
  "kernelspec": {
   "display_name": "Python 3",
   "language": "python",
   "name": "python3"
  },
  "language_info": {
   "codemirror_mode": {
    "name": "ipython",
    "version": 3
   },
   "file_extension": ".py",
   "mimetype": "text/x-python",
   "name": "python",
   "nbconvert_exporter": "python",
   "pygments_lexer": "ipython3",
   "version": "3.6.8"
  }
 },
 "nbformat": 4,
 "nbformat_minor": 2
}
