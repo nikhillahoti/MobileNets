{
 "cells": [
  {
   "cell_type": "code",
   "execution_count": 1,
   "metadata": {},
   "outputs": [
    {
     "name": "stderr",
     "output_type": "stream",
     "text": [
      "/home/nikhil/anaconda3/lib/python3.6/site-packages/h5py/__init__.py:34: FutureWarning: Conversion of the second argument of issubdtype from `float` to `np.floating` is deprecated. In future, it will be treated as `np.float64 == np.dtype(float).type`.\n",
      "  from ._conv import register_converters as _register_converters\n",
      "Using TensorFlow backend.\n"
     ]
    }
   ],
   "source": [
    "import tensorflow as tf\n",
    "from keras.preprocessing import image\n",
    "import numpy as np\n",
    "import keras\n",
    "from keras import Model\n",
    "import time\n",
    "from keras.models import Sequential\n",
    "from keras.layers.convolutional import Conv2D\n",
    "from keras.layers.convolutional import Conv3D\n",
    "\n",
    "fileName = \"Trump.jpg\"\n",
    "\n",
    "\n",
    "\n",
    "# Global MobileNets model\n",
    "mobile = keras.applications.mobilenet.MobileNet(weights=\"imagenet\")\n",
    "model = Model(mobile.input, mobile.layers[30].output)"
   ]
  },
  {
   "cell_type": "code",
   "execution_count": 2,
   "metadata": {},
   "outputs": [
    {
     "name": "stdout",
     "output_type": "stream",
     "text": [
      "<keras.engine.input_layer.InputLayer object at 0x7f9c40779978>\n",
      "<keras.layers.convolutional.ZeroPadding2D object at 0x7f9ba85149b0>\n",
      "<keras.layers.convolutional.Conv2D object at 0x7f9ba851a8d0>\n",
      "<keras.layers.normalization.BatchNormalization object at 0x7f9ba851aa90>\n",
      "<keras.layers.advanced_activations.ReLU object at 0x7f9ba84cb518>\n",
      "<keras.layers.convolutional.DepthwiseConv2D object at 0x7f9ba442ab70>\n",
      "<keras.layers.normalization.BatchNormalization object at 0x7f9ba7c86160>\n",
      "<keras.layers.advanced_activations.ReLU object at 0x7f9ba43d3780>\n",
      "<keras.layers.convolutional.Conv2D object at 0x7f9ba43a2ef0>\n",
      "<keras.layers.normalization.BatchNormalization object at 0x7f9ba436de48>\n",
      "<keras.layers.advanced_activations.ReLU object at 0x7f9ba4304eb8>\n",
      "<keras.layers.convolutional.ZeroPadding2D object at 0x7f9ba42ab5f8>\n",
      "<keras.layers.convolutional.DepthwiseConv2D object at 0x7f9ba42ab518>\n",
      "<keras.layers.normalization.BatchNormalization object at 0x7f9ba42abef0>\n",
      "<keras.layers.advanced_activations.ReLU object at 0x7f9ba420acf8>\n",
      "<keras.layers.convolutional.Conv2D object at 0x7f9ba41ac978>\n",
      "<keras.layers.normalization.BatchNormalization object at 0x7f9ba41cb6d8>\n",
      "<keras.layers.advanced_activations.ReLU object at 0x7f9ba40e8da0>\n",
      "<keras.layers.convolutional.DepthwiseConv2D object at 0x7f9ba40cde80>\n",
      "<keras.layers.normalization.BatchNormalization object at 0x7f9ba40b3e80>\n",
      "<keras.layers.advanced_activations.ReLU object at 0x7f9ba404ee48>\n",
      "<keras.layers.convolutional.Conv2D object at 0x7f9b887d3b00>\n",
      "<keras.layers.normalization.BatchNormalization object at 0x7f9b88798390>\n",
      "<keras.layers.advanced_activations.ReLU object at 0x7f9b88758828>\n",
      "<keras.layers.convolutional.ZeroPadding2D object at 0x7f9b886dab38>\n",
      "<keras.layers.convolutional.DepthwiseConv2D object at 0x7f9b8872dc18>\n",
      "<keras.layers.normalization.BatchNormalization object at 0x7f9b8860dcc0>\n",
      "<keras.layers.advanced_activations.ReLU object at 0x7f9b8860db70>\n",
      "<keras.layers.convolutional.Conv2D object at 0x7f9b88634e80>\n",
      "<keras.layers.normalization.BatchNormalization object at 0x7f9b885f8278>\n",
      "<keras.layers.advanced_activations.ReLU object at 0x7f9b8853e748>\n",
      "\n",
      "\n",
      " Weight Size\n",
      "(1, 1, 1, 128, 256)\n"
     ]
    }
   ],
   "source": [
    "for layer in model.layers:\n",
    "    print(layer)\n",
    "    \n",
    "layer28 = model.layers[28]\n",
    "W = np.array(layer28.get_weights())\n",
    "\n",
    "print(\"\\n\\n Weight Size\")\n",
    "print(W.shape)"
   ]
  },
  {
   "cell_type": "code",
   "execution_count": null,
   "metadata": {
    "collapsed": true
   },
   "outputs": [],
   "source": [
    "def write_to_file_weights_layer_nine(fileName, W):\n",
    "    fTemp = open(fileName, \"w\")\n",
    "    for i in range(1):\n",
    "        for j in range(1):\n",
    "            for k in range(256):\n",
    "                for l in range(128):\n",
    "                    fTemp.write(str(W[i][j][l][k]) + \"\\n\")\n",
    "    fTemp.close()\n"
   ]
  },
  {
   "cell_type": "code",
   "execution_count": null,
   "metadata": {
    "collapsed": true
   },
   "outputs": [],
   "source": [
    "for layer in model.layers:\n",
    "    print(layer)\n",
    "    \n",
    "layer28 = model.layers[28]\n",
    "W = np.array(layer28.get_weights())\n",
    "print(W.shape)\n",
    "\n",
    "W = layer28.get_weights()[0]\n",
    "write_to_file_weights_layer_nine(\"data/NinthLayer/weightsNorm.txt\", W)\n",
    "\n",
    "W[:,:,:,:] = 1\n",
    "write_to_file_weights_layer_nine(\"data/NinthLayer/weightsSet1.txt\", W)"
   ]
  },
  {
   "cell_type": "code",
   "execution_count": null,
   "metadata": {
    "collapsed": true
   },
   "outputs": [],
   "source": [
    "import math as m\n",
    "layer29 = model.layers[29]\n",
    "W = np.array(layer29.get_weights())\n",
    "print(W.shape)\n",
    "\n",
    "batchNorm = model.layers[29].get_weights()\n",
    "\n",
    "fMean = open(\"data/NinthLayer/Ninth_Layer_Mean.txt\", \"w\")\n",
    "fSD = open(\"data/NinthLayer/Ninth_Layer_StanDev.txt\", \"w\")\n",
    "fGamma = open(\"data/NinthLayer/Ninth_Layer_Gamma.txt\", \"w\")\n",
    "fBeta = open(\"data/NinthLayer/Ninth_Layer_Beta.txt\", \"w\")\n",
    "\n",
    "\n",
    "for i in range(len(batchNorm[0])):\n",
    "    fGamma.write(str(float(batchNorm[0][i])) + \"\\n\")\n",
    "\n",
    "for i in range(len(batchNorm[1])):\n",
    "    fBeta.write(str(float(batchNorm[1][i])) + \"\\n\")\n",
    "\n",
    "for i in range(len(batchNorm[2])):\n",
    "    fMean.write(str(float(batchNorm[2][i])) + \"\\n\")\n",
    "\n",
    "for i in range(len(batchNorm[3])):\n",
    "    # The Value for Epsilon is assumed to be 0.001 in this implementation\n",
    "    fSD.write(str(m.sqrt(float(batchNorm[3][i]) + 0.001)) + \"\\n\")\n",
    "\n",
    "\n",
    "print(batchNorm[0])\n",
    "print(batchNorm[1])\n",
    "print(batchNorm[2])\n",
    "print(batchNorm[3])\n",
    "\n",
    "fMean.close()\n",
    "fSD.close()\n",
    "fGamma.close()\n",
    "fBeta.close()\n"
   ]
  },
  {
   "cell_type": "code",
   "execution_count": 5,
   "metadata": {
    "collapsed": true
   },
   "outputs": [],
   "source": [
    "def checkFile_NinthLayer():\n",
    "    fExp = open('data/NinthLayer/Ninth_Layer_Output.txt', 'r')\n",
    "    fAct = open('data/NinthLayer/output.txt', 'r')\n",
    "    \n",
    "    cExp = fExp.readlines()\n",
    "    cAct = fAct.readlines()\n",
    "    counter = 0\n",
    "    for i in range(len(cExp)):\n",
    "         if int(round(float(cAct[i].strip()))) != int(round(float(cExp[i].strip()))):\n",
    "            counter += 1\n",
    "            print(str(cAct[i].strip()) + \"--->\" + str(cExp[i].strip()) )\n",
    "        \n",
    "    print(\"Number of mismatch - \" + str(counter))\n",
    "    \n",
    "    fExp.close()\n",
    "    fAct.close()\n",
    "    \n",
    "        "
   ]
  },
  {
   "cell_type": "code",
   "execution_count": 6,
   "metadata": {},
   "outputs": [
    {
     "name": "stdout",
     "output_type": "stream",
     "text": [
      "Number of mismatch - 11\n"
     ]
    }
   ],
   "source": [
    "checkFile_NinthLayer()"
   ]
  },
  {
   "cell_type": "code",
   "execution_count": null,
   "metadata": {
    "collapsed": true
   },
   "outputs": [],
   "source": []
  }
 ],
 "metadata": {
  "kernelspec": {
   "display_name": "Python 3",
   "language": "python",
   "name": "python3"
  },
  "language_info": {
   "codemirror_mode": {
    "name": "ipython",
    "version": 3
   },
   "file_extension": ".py",
   "mimetype": "text/x-python",
   "name": "python",
   "nbconvert_exporter": "python",
   "pygments_lexer": "ipython3",
   "version": "3.6.8"
  }
 },
 "nbformat": 4,
 "nbformat_minor": 2
}
