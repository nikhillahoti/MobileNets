{
 "cells": [
  {
   "cell_type": "code",
   "execution_count": 1,
   "metadata": {
    "collapsed": false
   },
   "outputs": [
    {
     "name": "stderr",
     "output_type": "stream",
     "text": [
      "Using TensorFlow backend.\n"
     ]
    }
   ],
   "source": [
    "import tensorflow as tf\n",
    "from keras.preprocessing import image\n",
    "import numpy as np\n",
    "import keras\n",
    "from keras import Model\n",
    "import time\n",
    "from keras.models import Sequential\n",
    "from keras.layers.convolutional import Conv2D\n",
    "from keras.layers.convolutional import Conv3D\n",
    "\n",
    "fileName = \"Trump.jpg\"\n",
    "\n",
    "\n",
    "\n",
    "# Global MobileNets model\n",
    "mobile = keras.applications.mobilenet.MobileNet(weights=\"imagenet\")\n",
    "model = Model(mobile.input, mobile.layers[28].output)"
   ]
  },
  {
   "cell_type": "code",
   "execution_count": 2,
   "metadata": {
    "collapsed": false
   },
   "outputs": [
    {
     "name": "stdout",
     "output_type": "stream",
     "text": [
      "<keras.engine.input_layer.InputLayer object at 0x7f0f92a7f2e8>\n",
      "<keras.layers.convolutional.ZeroPadding2D object at 0x7f0f09a9c208>\n",
      "<keras.layers.convolutional.Conv2D object at 0x7f0f09a9c470>\n",
      "<keras.layers.normalization.BatchNormalization object at 0x7f0f09a9c630>\n",
      "<keras.layers.advanced_activations.ReLU object at 0x7f0f09a9ce80>\n",
      "<keras.layers.convolutional.DepthwiseConv2D object at 0x7f0f09a9cac8>\n",
      "<keras.layers.normalization.BatchNormalization object at 0x7f0f09a9cf28>\n",
      "<keras.layers.advanced_activations.ReLU object at 0x7f0f0922c6d8>\n",
      "<keras.layers.convolutional.Conv2D object at 0x7f0f08130a90>\n",
      "<keras.layers.normalization.BatchNormalization object at 0x7f0f080f3390>\n",
      "<keras.layers.advanced_activations.ReLU object at 0x7f0f080b7c88>\n",
      "<keras.layers.convolutional.ZeroPadding2D object at 0x7f0f0808b588>\n",
      "<keras.layers.convolutional.DepthwiseConv2D object at 0x7f0f0808bfd0>\n",
      "<keras.layers.normalization.BatchNormalization object at 0x7f0f0073f6a0>\n",
      "<keras.layers.advanced_activations.ReLU object at 0x7f0f0073f7b8>\n",
      "<keras.layers.convolutional.Conv2D object at 0x7f0f0076ffd0>\n",
      "<keras.layers.normalization.BatchNormalization object at 0x7f0f00724be0>\n",
      "<keras.layers.advanced_activations.ReLU object at 0x7f0f006e9240>\n",
      "<keras.layers.convolutional.DepthwiseConv2D object at 0x7f0f00646ac8>\n",
      "<keras.layers.normalization.BatchNormalization object at 0x7f0f00608438>\n",
      "<keras.layers.advanced_activations.ReLU object at 0x7f0f0059cb38>\n",
      "<keras.layers.convolutional.Conv2D object at 0x7f0f0054bda0>\n",
      "<keras.layers.normalization.BatchNormalization object at 0x7f0f0056aa90>\n",
      "<keras.layers.advanced_activations.ReLU object at 0x7f0f004cd198>\n",
      "<keras.layers.convolutional.ZeroPadding2D object at 0x7f0f004a3898>\n",
      "<keras.layers.convolutional.DepthwiseConv2D object at 0x7f0f004a3908>\n",
      "<keras.layers.normalization.BatchNormalization object at 0x7f0f0037ce80>\n",
      "<keras.layers.advanced_activations.ReLU object at 0x7f0f0037cf28>\n",
      "<keras.layers.convolutional.Conv2D object at 0x7f0f003a8e48>\n",
      "\n",
      "\n",
      " Weight Size\n",
      "(1, 1, 1, 128, 256)\n"
     ]
    }
   ],
   "source": [
    "for layer in model.layers:\n",
    "    print(layer)\n",
    "    \n",
    "layer28 = model.layers[28]\n",
    "W = np.array(layer28.get_weights())\n",
    "\n",
    "print(\"\\n\\n Weight Size\")\n",
    "print(W.shape)"
   ]
  },
  {
   "cell_type": "code",
   "execution_count": null,
   "metadata": {
    "collapsed": true
   },
   "outputs": [],
   "source": [
    "def write_to_file_weights_layer_nine(fileName, W):\n",
    "    fTemp = open(fileName, \"w\")\n",
    "    for i in range(1):\n",
    "        for j in range(1):\n",
    "            for k in range(256):\n",
    "                for l in range(128):\n",
    "                    fTemp.write(str(W[i][j][l][k]) + \"\\n\")\n",
    "    fTemp.close()\n"
   ]
  },
  {
   "cell_type": "code",
   "execution_count": null,
   "metadata": {
    "collapsed": true
   },
   "outputs": [],
   "source": [
    "for layer in model.layers:\n",
    "    print(layer)\n",
    "    \n",
    "layer28 = model.layers[28]\n",
    "W = np.array(layer28.get_weights())\n",
    "print(W.shape)\n",
    "\n",
    "W = layer28.get_weights()[0]\n",
    "write_to_file_weights_layer_nine(\"data/NinthLayer/weightsNorm.txt\", W)\n",
    "\n",
    "W[:,:,:,:] = 1\n",
    "write_to_file_weights_layer_nine(\"data/NinthLayer/weightsSet1.txt\", W)"
   ]
  }
 ],
 "metadata": {
  "kernelspec": {
   "display_name": "Python [conda root]",
   "language": "python",
   "name": "conda-root-py"
  },
  "language_info": {
   "codemirror_mode": {
    "name": "ipython",
    "version": 3
   },
   "file_extension": ".py",
   "mimetype": "text/x-python",
   "name": "python",
   "nbconvert_exporter": "python",
   "pygments_lexer": "ipython3",
   "version": "3.6.3"
  }
 },
 "nbformat": 4,
 "nbformat_minor": 2
}
