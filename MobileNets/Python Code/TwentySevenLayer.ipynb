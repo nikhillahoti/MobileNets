{
 "cells": [
  {
   "cell_type": "code",
   "execution_count": 1,
   "metadata": {},
   "outputs": [
    {
     "name": "stderr",
     "output_type": "stream",
     "text": [
      "/home/nikhil/anaconda3/lib/python3.6/site-packages/h5py/__init__.py:34: FutureWarning: Conversion of the second argument of issubdtype from `float` to `np.floating` is deprecated. In future, it will be treated as `np.float64 == np.dtype(float).type`.\n",
      "  from ._conv import register_converters as _register_converters\n",
      "Using TensorFlow backend.\n"
     ]
    }
   ],
   "source": [
    "import tensorflow as tf\n",
    "from keras.preprocessing import image\n",
    "import numpy as np\n",
    "import keras\n",
    "from keras import Model\n",
    "import time\n",
    "from keras.models import Sequential\n",
    "from keras.layers.convolutional import Conv2D\n",
    "from keras.layers.convolutional import Conv3D\n",
    "\n",
    "fileName = \"Trump.jpg\"\n",
    "\n",
    "\n",
    "\n",
    "# Global MobileNets model\n",
    "mobile = keras.applications.mobilenet.MobileNet(weights=\"imagenet\")\n",
    "model = Model(mobile.input, mobile.layers[86].output)"
   ]
  },
  {
   "cell_type": "code",
   "execution_count": 3,
   "metadata": {},
   "outputs": [
    {
     "name": "stdout",
     "output_type": "stream",
     "text": [
      "<keras.engine.input_layer.InputLayer object at 0x7faec5f90c88>\n",
      "<keras.layers.convolutional.ZeroPadding2D object at 0x7fae3c09f160>\n",
      "<keras.layers.convolutional.Conv2D object at 0x7fae3becb0b8>\n",
      "<keras.layers.normalization.BatchNormalization object at 0x7fae3b693080>\n",
      "<keras.layers.advanced_activations.ReLU object at 0x7fae3b693f28>\n",
      "<keras.layers.convolutional.DepthwiseConv2D object at 0x7fae3b6abc88>\n",
      "<keras.layers.normalization.BatchNormalization object at 0x7fae3861cfd0>\n",
      "<keras.layers.advanced_activations.ReLU object at 0x7fae385f7668>\n",
      "<keras.layers.convolutional.Conv2D object at 0x7fae385984a8>\n",
      "<keras.layers.normalization.BatchNormalization object at 0x7fae38509438>\n",
      "<keras.layers.advanced_activations.ReLU object at 0x7fae38570a20>\n",
      "<keras.layers.convolutional.ZeroPadding2D object at 0x7fae384f3c88>\n",
      "<keras.layers.convolutional.DepthwiseConv2D object at 0x7fae38490f60>\n",
      "<keras.layers.normalization.BatchNormalization object at 0x7fae383e56d8>\n",
      "<keras.layers.advanced_activations.ReLU object at 0x7fae383e5908>\n",
      "<keras.layers.convolutional.Conv2D object at 0x7fae383819e8>\n",
      "<keras.layers.normalization.BatchNormalization object at 0x7fae382fff60>\n",
      "<keras.layers.advanced_activations.ReLU object at 0x7fae3832d0b8>\n",
      "<keras.layers.convolutional.DepthwiseConv2D object at 0x7fae382e1a90>\n",
      "<keras.layers.normalization.BatchNormalization object at 0x7fae382a0160>\n",
      "<keras.layers.advanced_activations.ReLU object at 0x7fae38204fd0>\n",
      "<keras.layers.convolutional.Conv2D object at 0x7fae381c4c88>\n",
      "<keras.layers.normalization.BatchNormalization object at 0x7fae3813ae48>\n",
      "<keras.layers.advanced_activations.ReLU object at 0x7fae38164b00>\n",
      "<keras.layers.convolutional.ZeroPadding2D object at 0x7fae3810d828>\n",
      "<keras.layers.convolutional.DepthwiseConv2D object at 0x7fae3811fd30>\n",
      "<keras.layers.normalization.BatchNormalization object at 0x7fae3805ef98>\n",
      "<keras.layers.advanced_activations.ReLU object at 0x7fae3805efd0>\n",
      "<keras.layers.convolutional.Conv2D object at 0x7fae1c7d5240>\n",
      "<keras.layers.normalization.BatchNormalization object at 0x7fae1c794358>\n",
      "<keras.layers.advanced_activations.ReLU object at 0x7fae1c77f940>\n",
      "<keras.layers.convolutional.DepthwiseConv2D object at 0x7fae1c234ba8>\n",
      "<keras.layers.normalization.BatchNormalization object at 0x7fae1c7528d0>\n",
      "<keras.layers.advanced_activations.ReLU object at 0x7fae1c1e3828>\n",
      "<keras.layers.convolutional.Conv2D object at 0x7fae1c1937b8>\n",
      "<keras.layers.normalization.BatchNormalization object at 0x7fae1c1005f8>\n",
      "<keras.layers.advanced_activations.ReLU object at 0x7fae1c16bbe0>\n",
      "<keras.layers.convolutional.ZeroPadding2D object at 0x7fae1c071e48>\n",
      "<keras.layers.convolutional.DepthwiseConv2D object at 0x7fae1c0a5630>\n",
      "<keras.layers.normalization.BatchNormalization object at 0x7fae3c0d8e10>\n",
      "<keras.layers.advanced_activations.ReLU object at 0x7fae3c0d8160>\n",
      "<keras.layers.convolutional.Conv2D object at 0x7fae1474d9b0>\n",
      "<keras.layers.normalization.BatchNormalization object at 0x7fae1470aba8>\n",
      "<keras.layers.advanced_activations.ReLU object at 0x7fae1467a0b8>\n",
      "<keras.layers.convolutional.DepthwiseConv2D object at 0x7fae146abb38>\n",
      "<keras.layers.normalization.BatchNormalization object at 0x7fae14665208>\n",
      "<keras.layers.advanced_activations.ReLU object at 0x7fae145cd1d0>\n",
      "<keras.layers.convolutional.Conv2D object at 0x7fae145e8400>\n",
      "<keras.layers.normalization.BatchNormalization object at 0x7fae14546e48>\n",
      "<keras.layers.advanced_activations.ReLU object at 0x7fae14529d68>\n",
      "<keras.layers.convolutional.DepthwiseConv2D object at 0x7fae144c5320>\n",
      "<keras.layers.normalization.BatchNormalization object at 0x7fae144a6630>\n",
      "<keras.layers.advanced_activations.ReLU object at 0x7fae144085c0>\n",
      "<keras.layers.convolutional.Conv2D object at 0x7fae14425860>\n",
      "<keras.layers.normalization.BatchNormalization object at 0x7fae1439b4e0>\n",
      "<keras.layers.advanced_activations.ReLU object at 0x7fae14385940>\n",
      "<keras.layers.convolutional.DepthwiseConv2D object at 0x7fae14306c50>\n",
      "<keras.layers.normalization.BatchNormalization object at 0x7fae1435da20>\n",
      "<keras.layers.advanced_activations.ReLU object at 0x7fae142b7a20>\n",
      "<keras.layers.convolutional.Conv2D object at 0x7fae14266940>\n",
      "<keras.layers.normalization.BatchNormalization object at 0x7fae141d4940>\n",
      "<keras.layers.advanced_activations.ReLU object at 0x7fae14155d68>\n",
      "<keras.layers.convolutional.DepthwiseConv2D object at 0x7fae14178898>\n",
      "<keras.layers.normalization.BatchNormalization object at 0x7fae14134940>\n",
      "<keras.layers.advanced_activations.ReLU object at 0x7fae140a2cf8>\n",
      "<keras.layers.convolutional.Conv2D object at 0x7fae14057b70>\n",
      "<keras.layers.normalization.BatchNormalization object at 0x7fade007ad68>\n",
      "<keras.layers.advanced_activations.ReLU object at 0x7faddb7c2ac8>\n",
      "<keras.layers.convolutional.DepthwiseConv2D object at 0x7faddb7fccf8>\n",
      "<keras.layers.normalization.BatchNormalization object at 0x7faddb7b83c8>\n",
      "<keras.layers.advanced_activations.ReLU object at 0x7faddb720320>\n",
      "<keras.layers.convolutional.Conv2D object at 0x7faddb73a5c0>\n",
      "<keras.layers.normalization.BatchNormalization object at 0x7faddb69bf28>\n",
      "<keras.layers.advanced_activations.ReLU object at 0x7faddb67bf28>\n",
      "<keras.layers.convolutional.ZeroPadding2D object at 0x7faddb6184e0>\n",
      "<keras.layers.convolutional.DepthwiseConv2D object at 0x7faddb638710>\n",
      "<keras.layers.normalization.BatchNormalization object at 0x7faddb50f4e0>\n",
      "<keras.layers.advanced_activations.ReLU object at 0x7faddb50f710>\n",
      "<keras.layers.convolutional.Conv2D object at 0x7faddb5307f0>\n",
      "<keras.layers.normalization.BatchNormalization object at 0x7faddb4eaa20>\n",
      "<keras.layers.advanced_activations.ReLU object at 0x7faddb46de48>\n",
      "<keras.layers.convolutional.DepthwiseConv2D object at 0x7faddb40c978>\n",
      "<keras.layers.normalization.BatchNormalization object at 0x7faddb4aeeb8>\n",
      "<keras.layers.advanced_activations.ReLU object at 0x7faddb3b3be0>\n",
      "<keras.layers.convolutional.Conv2D object at 0x7faddb34e208>\n",
      "<keras.layers.normalization.BatchNormalization object at 0x7faddb2c8358>\n",
      "<keras.layers.advanced_activations.ReLU object at 0x7faddb32e710>\n",
      "\n",
      "\n",
      " Weight Size\n",
      "(1, 1, 1, 1024, 1024)\n"
     ]
    }
   ],
   "source": [
    "for layer in model.layers:\n",
    "    print(layer)\n",
    "    \n",
    "layer84 = model.layers[84]\n",
    "W = np.array(layer84.get_weights())\n",
    "\n",
    "print(\"\\n\\n Weight Size\")\n",
    "print(W.shape)"
   ]
  },
  {
   "cell_type": "code",
   "execution_count": 4,
   "metadata": {
    "collapsed": true
   },
   "outputs": [],
   "source": [
    "def write_to_file_weights_layer_TwentySeven(fileName, W):\n",
    "    fTemp = open(fileName, \"w\")\n",
    "    for i in range(1):\n",
    "        for j in range(1):\n",
    "            for k in range(1024):\n",
    "                for l in range(1024):\n",
    "                    fTemp.write(str(W[i][j][l][k]) + \"\\n\")\n",
    "    fTemp.close()\n"
   ]
  },
  {
   "cell_type": "code",
   "execution_count": 6,
   "metadata": {
    "scrolled": true
   },
   "outputs": [
    {
     "name": "stdout",
     "output_type": "stream",
     "text": [
      "(1, 1, 1, 1024, 1024)\n"
     ]
    }
   ],
   "source": [
    "\"\"\"for layer in model.layers:\n",
    "    print(layer)\n",
    "\"\"\"\n",
    "    \n",
    "layer84 = model.layers[84]\n",
    "W = np.array(layer84.get_weights())\n",
    "print(W.shape)\n",
    "\n",
    "W = layer84.get_weights()[0]\n",
    "write_to_file_weights_layer_TwentySeven(\"data/TwentySevenLayer/weightsNorm.txt\", W)\n",
    "\n",
    "W[:,:,:,:] = 1\n",
    "write_to_file_weights_layer_TwentySeven(\"data/TwentySevenLayer/weightsSet1.txt\", W)"
   ]
  },
  {
   "cell_type": "code",
   "execution_count": 7,
   "metadata": {},
   "outputs": [
    {
     "name": "stdout",
     "output_type": "stream",
     "text": [
      "(4, 1024)\n",
      "[6.3941817 5.9546843 6.2170715 ... 6.1479716 6.2884493 6.2406883]\n",
      "[-5.4566655 -5.103854  -5.1413493 ... -5.3619957 -5.228818  -5.564032 ]\n",
      "[-0.5598603  -1.3321528  -1.3786563  ...  0.54057175 -2.010207\n",
      "  0.62393343]\n",
      "[0.42824823 0.3950452  0.40420967 ... 0.41413125 0.46813324 0.4294517 ]\n"
     ]
    }
   ],
   "source": [
    "import math as m\n",
    "layer85 = model.layers[85]\n",
    "W = np.array(layer85.get_weights())\n",
    "print(W.shape)\n",
    "\n",
    "batchNorm = model.layers[85].get_weights()\n",
    "\n",
    "fMean = open(\"data/TwentySevenLayer/TwentySeven_Layer_Mean.txt\", \"w\")\n",
    "fSD = open(\"data/TwentySevenLayer/TwentySeven_Layer_StanDev.txt\", \"w\")\n",
    "fGamma = open(\"data/TwentySevenLayer/TwentySeven_Layer_Gamma.txt\", \"w\")\n",
    "fBeta = open(\"data/TwentySevenLayer/TwentySeven_Layer_Beta.txt\", \"w\")\n",
    "\n",
    "\n",
    "for i in range(len(batchNorm[0])):\n",
    "    fGamma.write(str(float(batchNorm[0][i])) + \"\\n\")\n",
    "\n",
    "for i in range(len(batchNorm[1])):\n",
    "    fBeta.write(str(float(batchNorm[1][i])) + \"\\n\")\n",
    "\n",
    "for i in range(len(batchNorm[2])):\n",
    "    fMean.write(str(float(batchNorm[2][i])) + \"\\n\")\n",
    "\n",
    "for i in range(len(batchNorm[3])):\n",
    "    # The Value for Epsilon is assumed to be 0.001 in this implementation\n",
    "    fSD.write(str(m.sqrt(float(batchNorm[3][i]) + 0.001)) + \"\\n\")\n",
    "\n",
    "\n",
    "print(batchNorm[0])\n",
    "print(batchNorm[1])\n",
    "print(batchNorm[2])\n",
    "print(batchNorm[3])\n",
    "\n",
    "fMean.close()\n",
    "fSD.close()\n",
    "fGamma.close()\n",
    "fBeta.close()\n"
   ]
  },
  {
   "cell_type": "code",
   "execution_count": 1,
   "metadata": {
    "collapsed": true
   },
   "outputs": [],
   "source": [
    "def checkFile_TwentySevenLayer():\n",
    "    fExp = open('data/TwentySevenLayer/TwentySeven_Layer_Output.txt', 'r')\n",
    "    fAct = open('data/TwentySevenLayer/output.txt', 'r')\n",
    "    \n",
    "    cExp = fExp.readlines()\n",
    "    cAct = fAct.readlines()\n",
    "    counter = 0\n",
    "    for i in range(len(cExp)):\n",
    "         if int(round(float(cAct[i].strip()))) != int(round(float(cExp[i].strip()))):\n",
    "            counter += 1\n",
    "            if(counter < 30):\n",
    "                print(str(cAct[i].strip()) + \"--->\" + str(cExp[i].strip()) + \" ----> \" + str(i))\n",
    "            \n",
    "        \n",
    "    print(\"Number of mismatch - \" + str(counter))\n",
    "    \n",
    "    fExp.close()\n",
    "    fAct.close()\n",
    "    \n",
    "        "
   ]
  },
  {
   "cell_type": "code",
   "execution_count": 2,
   "metadata": {},
   "outputs": [
    {
     "name": "stdout",
     "output_type": "stream",
     "text": [
      "0.495472--->0.50281906 ----> 1699\n",
      "2.499841--->2.5013633 ----> 2087\n",
      "1.499212--->1.5025153 ----> 2587\n",
      "0.499543--->0.5005916 ----> 15761\n",
      "0.499589--->0.50250703 ----> 18156\n",
      "0.501421--->0.4993643 ----> 35530\n",
      "0.501216--->0.49567676 ----> 38087\n",
      "2.506258--->2.4961197 ----> 41483\n",
      "2.496248--->2.5028577 ----> 50006\n",
      "Number of mismatch - 9\n"
     ]
    }
   ],
   "source": [
    "checkFile_TwentySevenLayer()"
   ]
  },
  {
   "cell_type": "code",
   "execution_count": null,
   "metadata": {
    "collapsed": true
   },
   "outputs": [],
   "source": []
  }
 ],
 "metadata": {
  "kernelspec": {
   "display_name": "Python 3",
   "language": "python",
   "name": "python3"
  },
  "language_info": {
   "codemirror_mode": {
    "name": "ipython",
    "version": 3
   },
   "file_extension": ".py",
   "mimetype": "text/x-python",
   "name": "python",
   "nbconvert_exporter": "python",
   "pygments_lexer": "ipython3",
   "version": "3.6.8"
  }
 },
 "nbformat": 4,
 "nbformat_minor": 2
}
