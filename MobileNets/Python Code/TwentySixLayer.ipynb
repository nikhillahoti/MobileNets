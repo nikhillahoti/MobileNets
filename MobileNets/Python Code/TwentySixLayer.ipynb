{
 "cells": [
  {
   "cell_type": "code",
   "execution_count": null,
   "metadata": {},
   "outputs": [
    {
     "name": "stderr",
     "output_type": "stream",
     "text": [
      "/home/nikhil/anaconda3/lib/python3.6/site-packages/h5py/__init__.py:34: FutureWarning: Conversion of the second argument of issubdtype from `float` to `np.floating` is deprecated. In future, it will be treated as `np.float64 == np.dtype(float).type`.\n",
      "  from ._conv import register_converters as _register_converters\n",
      "Using TensorFlow backend.\n"
     ]
    }
   ],
   "source": [
    "import tensorflow as tf\n",
    "from keras.preprocessing import image\n",
    "import numpy as np\n",
    "import keras\n",
    "from keras import Model\n",
    "import time\n",
    "from keras.models import Sequential\n",
    "from keras.layers.convolutional import Conv2D\n",
    "from keras.layers.convolutional import Conv3D\n",
    "\n",
    "fileName = \"Trump.jpg\"\n",
    "\n",
    "\n",
    "\n",
    "# Global MobileNets model\n",
    "mobile = keras.applications.mobilenet.MobileNet(weights=\"imagenet\")\n",
    "model = Model(mobile.input, mobile.layers[83].output)"
   ]
  },
  {
   "cell_type": "code",
   "execution_count": 4,
   "metadata": {},
   "outputs": [
    {
     "name": "stdout",
     "output_type": "stream",
     "text": [
      "<keras.engine.input_layer.InputLayer object at 0x7f36289c0828>\n",
      "<keras.layers.convolutional.ZeroPadding2D object at 0x7f359aae2160>\n",
      "<keras.layers.convolutional.Conv2D object at 0x7f359a90e0b8>\n",
      "<keras.layers.normalization.BatchNormalization object at 0x7f359a0d5080>\n",
      "<keras.layers.advanced_activations.ReLU object at 0x7f359a0d5f28>\n",
      "<keras.layers.convolutional.DepthwiseConv2D object at 0x7f359a0eec88>\n",
      "<keras.layers.normalization.BatchNormalization object at 0x7f3598060fd0>\n",
      "<keras.layers.advanced_activations.ReLU object at 0x7f35887f7668>\n",
      "<keras.layers.convolutional.Conv2D object at 0x7f35887974a8>\n",
      "<keras.layers.normalization.BatchNormalization object at 0x7f358870a438>\n",
      "<keras.layers.advanced_activations.ReLU object at 0x7f3588771a20>\n",
      "<keras.layers.convolutional.ZeroPadding2D object at 0x7f35886f3c88>\n",
      "<keras.layers.convolutional.DepthwiseConv2D object at 0x7f3588691f60>\n",
      "<keras.layers.normalization.BatchNormalization object at 0x7f35884136d8>\n",
      "<keras.layers.advanced_activations.ReLU object at 0x7f3588413908>\n",
      "<keras.layers.convolutional.Conv2D object at 0x7f35883af9e8>\n",
      "<keras.layers.normalization.BatchNormalization object at 0x7f358832df60>\n",
      "<keras.layers.advanced_activations.ReLU object at 0x7f358835c0b8>\n",
      "<keras.layers.convolutional.DepthwiseConv2D object at 0x7f358830ea90>\n",
      "<keras.layers.normalization.BatchNormalization object at 0x7f35882cd160>\n",
      "<keras.layers.advanced_activations.ReLU object at 0x7f3588231fd0>\n",
      "<keras.layers.convolutional.Conv2D object at 0x7f35881f1c88>\n",
      "<keras.layers.normalization.BatchNormalization object at 0x7f3588168e48>\n",
      "<keras.layers.advanced_activations.ReLU object at 0x7f3588192b00>\n",
      "<keras.layers.convolutional.ZeroPadding2D object at 0x7f358813b828>\n",
      "<keras.layers.convolutional.DepthwiseConv2D object at 0x7f358814dd30>\n",
      "<keras.layers.normalization.BatchNormalization object at 0x7f358808bf98>\n",
      "<keras.layers.advanced_activations.ReLU object at 0x7f358808bfd0>\n",
      "<keras.layers.convolutional.Conv2D object at 0x7f3588043240>\n",
      "<keras.layers.normalization.BatchNormalization object at 0x7f35547d4358>\n",
      "<keras.layers.advanced_activations.ReLU object at 0x7f35547bf940>\n",
      "<keras.layers.convolutional.DepthwiseConv2D object at 0x7f355473fba8>\n",
      "<keras.layers.normalization.BatchNormalization object at 0x7f35547918d0>\n",
      "<keras.layers.advanced_activations.ReLU object at 0x7f35546ef828>\n",
      "<keras.layers.convolutional.Conv2D object at 0x7f355469f7b8>\n",
      "<keras.layers.normalization.BatchNormalization object at 0x7f355460d5f8>\n",
      "<keras.layers.advanced_activations.ReLU object at 0x7f3554678be0>\n",
      "<keras.layers.convolutional.ZeroPadding2D object at 0x7f355457ce48>\n",
      "<keras.layers.convolutional.DepthwiseConv2D object at 0x7f35545b1630>\n",
      "<keras.layers.normalization.BatchNormalization object at 0x7f359ab1bd30>\n",
      "<keras.layers.advanced_activations.ReLU object at 0x7f359ab1b9e8>\n",
      "<keras.layers.convolutional.Conv2D object at 0x7f355448f9b0>\n",
      "<keras.layers.normalization.BatchNormalization object at 0x7f355444eba8>\n",
      "<keras.layers.advanced_activations.ReLU object at 0x7f35543bd0b8>\n",
      "<keras.layers.convolutional.DepthwiseConv2D object at 0x7f35543eeb38>\n",
      "<keras.layers.normalization.BatchNormalization object at 0x7f35543a8208>\n",
      "<keras.layers.advanced_activations.ReLU object at 0x7f355430f1d0>\n",
      "<keras.layers.convolutional.Conv2D object at 0x7f355432b400>\n",
      "<keras.layers.normalization.BatchNormalization object at 0x7f3554289e48>\n",
      "<keras.layers.advanced_activations.ReLU object at 0x7f355426ad68>\n",
      "<keras.layers.convolutional.DepthwiseConv2D object at 0x7f3554205320>\n",
      "<keras.layers.normalization.BatchNormalization object at 0x7f35541e7630>\n",
      "<keras.layers.advanced_activations.ReLU object at 0x7f35541485c0>\n",
      "<keras.layers.convolutional.Conv2D object at 0x7f3554167860>\n",
      "<keras.layers.normalization.BatchNormalization object at 0x7f35540dd4e0>\n",
      "<keras.layers.advanced_activations.ReLU object at 0x7f35540c7940>\n",
      "<keras.layers.convolutional.DepthwiseConv2D object at 0x7f3554048c50>\n",
      "<keras.layers.normalization.BatchNormalization object at 0x7f355409ea20>\n",
      "<keras.layers.advanced_activations.ReLU object at 0x7f354cf3aa20>\n",
      "<keras.layers.convolutional.Conv2D object at 0x7f354cf69940>\n",
      "<keras.layers.normalization.BatchNormalization object at 0x7f354ced8940>\n",
      "<keras.layers.advanced_activations.ReLU object at 0x7f354ce57d68>\n",
      "<keras.layers.convolutional.DepthwiseConv2D object at 0x7f354cdfa898>\n",
      "<keras.layers.normalization.BatchNormalization object at 0x7f354ce35940>\n",
      "<keras.layers.advanced_activations.ReLU object at 0x7f354cda4cf8>\n",
      "<keras.layers.convolutional.Conv2D object at 0x7f354cd5ab70>\n",
      "<keras.layers.normalization.BatchNormalization object at 0x7f354cd14d68>\n",
      "<keras.layers.advanced_activations.ReLU object at 0x7f354cc7fac8>\n",
      "<keras.layers.convolutional.DepthwiseConv2D object at 0x7f354ccb8cf8>\n",
      "<keras.layers.normalization.BatchNormalization object at 0x7f354cc753c8>\n",
      "<keras.layers.advanced_activations.ReLU object at 0x7f354cbdb320>\n",
      "<keras.layers.convolutional.Conv2D object at 0x7f354cbf65c0>\n",
      "<keras.layers.normalization.BatchNormalization object at 0x7f354cb57f28>\n",
      "<keras.layers.advanced_activations.ReLU object at 0x7f354cb36f28>\n",
      "<keras.layers.convolutional.ZeroPadding2D object at 0x7f354cad64e0>\n",
      "<keras.layers.convolutional.DepthwiseConv2D object at 0x7f354caf5710>\n",
      "<keras.layers.normalization.BatchNormalization object at 0x7f354c9cc4e0>\n",
      "<keras.layers.advanced_activations.ReLU object at 0x7f354c9cc710>\n",
      "<keras.layers.convolutional.Conv2D object at 0x7f354c9ed7f0>\n",
      "<keras.layers.normalization.BatchNormalization object at 0x7f354c9a7a20>\n",
      "<keras.layers.advanced_activations.ReLU object at 0x7f354c92be48>\n",
      "<keras.layers.convolutional.DepthwiseConv2D object at 0x7f354c8c9978>\n",
      "<keras.layers.normalization.BatchNormalization object at 0x7f354c96aeb8>\n",
      "<keras.layers.advanced_activations.ReLU object at 0x7f354c86fbe0>\n",
      "\n",
      "\n",
      " Weight Size\n",
      "(1, 3, 3, 1024, 1)\n"
     ]
    }
   ],
   "source": [
    "for layer in model.layers:\n",
    "    print(layer)\n",
    "    \n",
    "layer81 = model.layers[81]\n",
    "W = np.array(layer81.get_weights())\n",
    "\n",
    "print(\"\\n\\n Weight Size\")\n",
    "print(W.shape)"
   ]
  },
  {
   "cell_type": "code",
   "execution_count": 6,
   "metadata": {
    "collapsed": true
   },
   "outputs": [],
   "source": [
    "def write_to_file_weights_layer_TwentySix(fileName, W):\n",
    "    fTemp = open(fileName, \"w\")\n",
    "    for i in range(1024):\n",
    "        for j in range(3):\n",
    "            for k in range(3):\n",
    "                for l in range(1):\n",
    "                    fTemp.write(str(W[j][k][i][l]) + \"\\n\")\n",
    "    fTemp.close()\n"
   ]
  },
  {
   "cell_type": "code",
   "execution_count": 7,
   "metadata": {
    "scrolled": true
   },
   "outputs": [
    {
     "name": "stdout",
     "output_type": "stream",
     "text": [
      "(1, 3, 3, 1024, 1)\n"
     ]
    }
   ],
   "source": [
    "\"\"\"for layer in model.layers:\n",
    "    print(layer)\n",
    "\"\"\"\n",
    "    \n",
    "layer81 = model.layers[81]\n",
    "W = np.array(layer81.get_weights())\n",
    "print(W.shape)\n",
    "\n",
    "W = layer81.get_weights()[0]\n",
    "write_to_file_weights_layer_TwentySix(\"data/TwentySixLayer/weightsNorm.txt\", W)\n",
    "\n",
    "W[:,:,:,:] = 1\n",
    "write_to_file_weights_layer_TwentySix(\"data/TwentySixLayer/weightsSet1.txt\", W)"
   ]
  },
  {
   "cell_type": "code",
   "execution_count": 8,
   "metadata": {},
   "outputs": [
    {
     "name": "stdout",
     "output_type": "stream",
     "text": [
      "(4, 1024)\n",
      "[0.63984036 0.64849657 2.5952814  ... 0.6343376  1.1901323  2.4732704 ]\n",
      "[ 3.034531    2.4088342  -0.9964745  ...  0.36861718 -0.41943818\n",
      " -2.1177642 ]\n",
      "[-0.5380955  -0.32925078 -3.5049727  ...  0.41272783  0.00505011\n",
      " -0.53453356]\n",
      "[0.894147   0.30047542 6.427319   ... 0.3974507  0.17687346 3.2201653 ]\n"
     ]
    }
   ],
   "source": [
    "import math as m\n",
    "layer82 = model.layers[82]\n",
    "W = np.array(layer82.get_weights())\n",
    "print(W.shape)\n",
    "\n",
    "batchNorm = model.layers[82].get_weights()\n",
    "\n",
    "fMean = open(\"data/TwentySixLayer/TwentySix_Layer_Mean.txt\", \"w\")\n",
    "fSD = open(\"data/TwentySixLayer/TwentySix_Layer_StanDev.txt\", \"w\")\n",
    "fGamma = open(\"data/TwentySixLayer/TwentySix_Layer_Gamma.txt\", \"w\")\n",
    "fBeta = open(\"data/TwentySixLayer/TwentySix_Layer_Beta.txt\", \"w\")\n",
    "\n",
    "\n",
    "for i in range(len(batchNorm[0])):\n",
    "    fGamma.write(str(float(batchNorm[0][i])) + \"\\n\")\n",
    "\n",
    "for i in range(len(batchNorm[1])):\n",
    "    fBeta.write(str(float(batchNorm[1][i])) + \"\\n\")\n",
    "\n",
    "for i in range(len(batchNorm[2])):\n",
    "    fMean.write(str(float(batchNorm[2][i])) + \"\\n\")\n",
    "\n",
    "for i in range(len(batchNorm[3])):\n",
    "    # The Value for Epsilon is assumed to be 0.001 in this implementation\n",
    "    fSD.write(str(m.sqrt(float(batchNorm[3][i]) + 0.001)) + \"\\n\")\n",
    "\n",
    "\n",
    "print(batchNorm[0])\n",
    "print(batchNorm[1])\n",
    "print(batchNorm[2])\n",
    "print(batchNorm[3])\n",
    "\n",
    "fMean.close()\n",
    "fSD.close()\n",
    "fGamma.close()\n",
    "fBeta.close()\n"
   ]
  },
  {
   "cell_type": "code",
   "execution_count": 11,
   "metadata": {
    "collapsed": true
   },
   "outputs": [],
   "source": [
    "def checkFile_TwentySixLayer():\n",
    "    fExp = open('data/TwentySixLayer/TwentySix_Layer_Output.txt', 'r')\n",
    "    fAct = open('data/TwentySixLayer/output.txt', 'r')\n",
    "    \n",
    "    cExp = fExp.readlines()\n",
    "    cAct = fAct.readlines()\n",
    "    counter = 0\n",
    "    for i in range(len(cExp)):\n",
    "         if int(round(float(cAct[i].strip()))) != int(round(float(cExp[i].strip()))):\n",
    "            counter += 1\n",
    "            if(counter < 30):\n",
    "                print(str(cAct[i].strip()) + \"--->\" + str(cExp[i].strip()) + \" ----> \" + str(i))\n",
    "            \n",
    "        \n",
    "    print(\"Number of mismatch - \" + str(counter))\n",
    "    \n",
    "    fExp.close()\n",
    "    fAct.close()\n",
    "    \n",
    "        "
   ]
  },
  {
   "cell_type": "code",
   "execution_count": 12,
   "metadata": {},
   "outputs": [
    {
     "name": "stdout",
     "output_type": "stream",
     "text": [
      "0.499953--->0.5000999 ----> 17885\n",
      "0.499627--->0.5002612 ----> 25758\n",
      "2.499951--->2.500029 ----> 27052\n",
      "0.499995--->0.5002091 ----> 33246\n",
      "0.500074--->0.49998742 ----> 38404\n",
      "Number of mismatch - 5\n"
     ]
    }
   ],
   "source": [
    "checkFile_TwentySixLayer()"
   ]
  },
  {
   "cell_type": "code",
   "execution_count": null,
   "metadata": {
    "collapsed": true
   },
   "outputs": [],
   "source": []
  }
 ],
 "metadata": {
  "kernelspec": {
   "display_name": "Python 3",
   "language": "python",
   "name": "python3"
  },
  "language_info": {
   "codemirror_mode": {
    "name": "ipython",
    "version": 3
   },
   "file_extension": ".py",
   "mimetype": "text/x-python",
   "name": "python",
   "nbconvert_exporter": "python",
   "pygments_lexer": "ipython3",
   "version": "3.6.8"
  }
 },
 "nbformat": 4,
 "nbformat_minor": 2
}
