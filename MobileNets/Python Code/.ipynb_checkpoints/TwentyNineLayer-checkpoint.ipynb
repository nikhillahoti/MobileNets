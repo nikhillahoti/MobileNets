{
 "cells": [
  {
   "cell_type": "code",
   "execution_count": 1,
   "metadata": {},
   "outputs": [
    {
     "name": "stderr",
     "output_type": "stream",
     "text": [
      "/home/nikhil/anaconda3/lib/python3.6/site-packages/h5py/__init__.py:34: FutureWarning: Conversion of the second argument of issubdtype from `float` to `np.floating` is deprecated. In future, it will be treated as `np.float64 == np.dtype(float).type`.\n",
      "  from ._conv import register_converters as _register_converters\n",
      "Using TensorFlow backend.\n"
     ]
    }
   ],
   "source": [
    "import tensorflow as tf\n",
    "from keras.preprocessing import image\n",
    "import numpy as np\n",
    "import keras\n",
    "from keras import Model\n",
    "import time\n",
    "from keras.models import Sequential\n",
    "from keras.layers.convolutional import Conv2D\n",
    "from keras.layers.convolutional import Conv3D\n",
    "\n",
    "fileName = \"Trump.jpg\"\n",
    "\n",
    "\n",
    "\n",
    "# Global MobileNets model\n",
    "mobile = keras.applications.mobilenet.MobileNet(weights=\"imagenet\")\n",
    "model = Model(mobile.input, mobile.layers[92].output)"
   ]
  },
  {
   "cell_type": "code",
   "execution_count": 8,
   "metadata": {},
   "outputs": [
    {
     "name": "stdout",
     "output_type": "stream",
     "text": [
      "\n",
      "\n",
      " Weight Size\n",
      "<keras.layers.core.Reshape object at 0x7f2518aaf2b0>\n",
      "(0,)\n",
      "\n",
      "\n",
      " Weight Size\n",
      "<keras.layers.core.Activation object at 0x7f2518aaf1d0>\n",
      "(0,)\n",
      "\n",
      "\n",
      " Weight Size\n",
      "(0,)\n"
     ]
    }
   ],
   "source": [
    "\"\"\"for layer in model.layers:\n",
    "    print(layer)\n",
    "\"\"\"\n",
    "layer92 = model.layers[92]\n",
    "W = np.array(layer92.get_weights())\n",
    "\n",
    "print(\"\\n\\n Weight Size\")\n",
    "print(layer92)\n",
    "print(W.shape)\n",
    "\n",
    "\n",
    "layer91 = model.layers[91]\n",
    "W = np.array(layer91.get_weights())\n",
    "\n",
    "print(\"\\n\\n Weight Size\")\n",
    "print(layer91)\n",
    "print(W.shape)\n",
    "    \n",
    "layer90 = model.layers[90]\n",
    "W = np.array(layer90.get_weights())\n",
    "\n",
    "print(\"\\n\\n Weight Size\")\n",
    "print(W.shape)"
   ]
  },
  {
   "cell_type": "code",
   "execution_count": null,
   "metadata": {
    "collapsed": true
   },
   "outputs": [],
   "source": [
    "def write_to_file_weights_layer_TwentyNine(fileName, W):\n",
    "    fTemp = open(fileName, \"w\")\n",
    "    for i in range(1):\n",
    "        for j in range(1):\n",
    "            for k in range(1000):\n",
    "                for l in range(1024):\n",
    "                    fTemp.write(str(W[i][j][l][k]) + \"\\n\")\n",
    "    fTemp.close()\n"
   ]
  },
  {
   "cell_type": "code",
   "execution_count": null,
   "metadata": {
    "collapsed": true
   },
   "outputs": [],
   "source": [
    "def write_to_file_biases_layer_TwentyNine(fileName, W):\n",
    "    fTemp = open(fileName, \"w\")\n",
    "    for i in range(1000):\n",
    "        fTemp.write(str(W[i]) + \"\\n\")\n",
    "    fTemp.close()\n"
   ]
  },
  {
   "cell_type": "code",
   "execution_count": null,
   "metadata": {
    "scrolled": true
   },
   "outputs": [],
   "source": [
    "\"\"\"for layer in model.layers:\n",
    "    print(layer)\n",
    "\"\"\"\n",
    "\n",
    "layer90 = model.layers[90]\n",
    "print(layer90)\n",
    "W = np.array(layer90.get_weights())\n",
    "print(W.shape)\n",
    "\n",
    "W = layer90.get_weights()[0]\n",
    "W1 = layer90.get_weights()[1]\n",
    "print(W.shape)\n",
    "print(W1.shape)\n",
    "write_to_file_weights_layer_TwentyNine(\"data/TwentyNineLayer/weightsNorm.txt\", W)\n",
    "\n",
    "W[:,:,:,:] = 1\n",
    "write_to_file_weights_layer_TwentyNine(\"data/TwentyNineLayer/weightsSet1.txt\", W)\n",
    "\n",
    "write_to_file_biases_layer_TwentyNine(\"data/TwentyNineLayer/biases.txt\", W1)\n"
   ]
  },
  {
   "cell_type": "code",
   "execution_count": null,
   "metadata": {
    "collapsed": true
   },
   "outputs": [],
   "source": [
    "def checkFile_TwentyNineLayer():\n",
    "    fExp = open('data/TwentyNineLayer/TwentyNine_Layer_Output.txt', 'r')\n",
    "    fAct = open('data/TwentyNineLayer/output.txt', 'r')\n",
    "    \n",
    "    cExp = fExp.readlines()\n",
    "    cAct = fAct.readlines()\n",
    "    counter = 0\n",
    "    for i in range(len(cExp)):\n",
    "         if int(round(float(cAct[i].strip()))) != int(round(float(cExp[i].strip()))):\n",
    "            counter += 1\n",
    "            if(counter < 30):\n",
    "                print(str(cAct[i].strip()) + \"--->\" + str(cExp[i].strip()) + \" ----> \" + str(i))\n",
    "        \n",
    "    print(\"Number of mismatch - \" + str(counter))\n",
    "    \n",
    "    fExp.close()\n",
    "    fAct.close()\n",
    "    \n",
    "        "
   ]
  },
  {
   "cell_type": "code",
   "execution_count": null,
   "metadata": {},
   "outputs": [],
   "source": [
    "checkFile_TwentyNineLayer()"
   ]
  },
  {
   "cell_type": "code",
   "execution_count": null,
   "metadata": {
    "collapsed": true
   },
   "outputs": [],
   "source": []
  }
 ],
 "metadata": {
  "kernelspec": {
   "display_name": "Python 3",
   "language": "python",
   "name": "python3"
  },
  "language_info": {
   "codemirror_mode": {
    "name": "ipython",
    "version": 3
   },
   "file_extension": ".py",
   "mimetype": "text/x-python",
   "name": "python",
   "nbconvert_exporter": "python",
   "pygments_lexer": "ipython3",
   "version": "3.6.8"
  }
 },
 "nbformat": 4,
 "nbformat_minor": 2
}
