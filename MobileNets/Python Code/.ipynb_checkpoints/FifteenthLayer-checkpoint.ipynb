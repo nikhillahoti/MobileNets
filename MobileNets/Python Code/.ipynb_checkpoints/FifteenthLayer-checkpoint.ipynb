{
 "cells": [
  {
   "cell_type": "code",
   "execution_count": 1,
   "metadata": {},
   "outputs": [
    {
     "name": "stderr",
     "output_type": "stream",
     "text": [
      "/home/nikhil/anaconda3/lib/python3.6/site-packages/h5py/__init__.py:34: FutureWarning: Conversion of the second argument of issubdtype from `float` to `np.floating` is deprecated. In future, it will be treated as `np.float64 == np.dtype(float).type`.\n",
      "  from ._conv import register_converters as _register_converters\n",
      "Using TensorFlow backend.\n"
     ]
    }
   ],
   "source": [
    "import tensorflow as tf\n",
    "from keras.preprocessing import image\n",
    "import numpy as np\n",
    "import keras\n",
    "from keras import Model\n",
    "import time\n",
    "from keras.models import Sequential\n",
    "from keras.layers.convolutional import Conv2D\n",
    "from keras.layers.convolutional import Conv3D\n",
    "\n",
    "fileName = \"Trump.jpg\"\n",
    "\n",
    "\n",
    "\n",
    "# Global MobileNets model\n",
    "mobile = keras.applications.mobilenet.MobileNet(weights=\"imagenet\")\n",
    "model = Model(mobile.input, mobile.layers[49].output)"
   ]
  },
  {
   "cell_type": "code",
   "execution_count": 2,
   "metadata": {},
   "outputs": [
    {
     "name": "stdout",
     "output_type": "stream",
     "text": [
      "<keras.engine.input_layer.InputLayer object at 0x7fdd4ef92710>\n",
      "<keras.layers.convolutional.ZeroPadding2D object at 0x7fdccd0de0f0>\n",
      "<keras.layers.convolutional.Conv2D object at 0x7fdccd0a73c8>\n",
      "<keras.layers.normalization.BatchNormalization object at 0x7fdcccf26f28>\n",
      "<keras.layers.advanced_activations.ReLU object at 0x7fdcccf26dd8>\n",
      "<keras.layers.convolutional.DepthwiseConv2D object at 0x7fdccc6eb9b0>\n",
      "<keras.layers.normalization.BatchNormalization object at 0x7fdccc665fd0>\n",
      "<keras.layers.advanced_activations.ReLU object at 0x7fdccc5bf4a8>\n",
      "<keras.layers.convolutional.Conv2D object at 0x7fdccc5dd2e8>\n",
      "<keras.layers.normalization.BatchNormalization object at 0x7fdccc551278>\n",
      "<keras.layers.advanced_activations.ReLU object at 0x7fdccc5ba860>\n",
      "<keras.layers.convolutional.ZeroPadding2D object at 0x7fdccc539ac8>\n",
      "<keras.layers.convolutional.DepthwiseConv2D object at 0x7fdccc4ef208>\n",
      "<keras.layers.normalization.BatchNormalization object at 0x7fdccc42a518>\n",
      "<keras.layers.advanced_activations.ReLU object at 0x7fdccc42a748>\n",
      "<keras.layers.convolutional.Conv2D object at 0x7fdccc3c9828>\n",
      "<keras.layers.normalization.BatchNormalization object at 0x7fdccc3860b8>\n",
      "<keras.layers.advanced_activations.ReLU object at 0x7fdccc386a20>\n",
      "<keras.layers.convolutional.DepthwiseConv2D object at 0x7fdccc305da0>\n",
      "<keras.layers.normalization.BatchNormalization object at 0x7fdccc2e5940>\n",
      "<keras.layers.advanced_activations.ReLU object at 0x7fdccc255cf8>\n",
      "<keras.layers.convolutional.Conv2D object at 0x7fdccc207ac8>\n",
      "<keras.layers.normalization.BatchNormalization object at 0x7fdccc184f60>\n",
      "<keras.layers.advanced_activations.ReLU object at 0x7fdccc1aadd8>\n",
      "<keras.layers.convolutional.ZeroPadding2D object at 0x7fdccc167b70>\n",
      "<keras.layers.convolutional.DepthwiseConv2D object at 0x7fdccc124be0>\n",
      "<keras.layers.normalization.BatchNormalization object at 0x7fdccc0a3dd8>\n",
      "<keras.layers.advanced_activations.ReLU object at 0x7fdccc0a3e80>\n",
      "<keras.layers.convolutional.Conv2D object at 0x7fdccc0456a0>\n",
      "<keras.layers.normalization.BatchNormalization object at 0x7fdcc47be908>\n",
      "<keras.layers.advanced_activations.ReLU object at 0x7fdcc4795a90>\n",
      "<keras.layers.convolutional.DepthwiseConv2D object at 0x7fdcc473f8d0>\n",
      "<keras.layers.normalization.BatchNormalization object at 0x7fdcc474eeb8>\n",
      "<keras.layers.advanced_activations.ReLU object at 0x7fdcc46f3668>\n",
      "<keras.layers.convolutional.Conv2D object at 0x7fdcc469f5f8>\n",
      "<keras.layers.normalization.BatchNormalization object at 0x7fdcc4611438>\n",
      "<keras.layers.advanced_activations.ReLU object at 0x7fdcc4676a20>\n",
      "<keras.layers.convolutional.ZeroPadding2D object at 0x7fdcc457ec88>\n",
      "<keras.layers.convolutional.DepthwiseConv2D object at 0x7fdcc459df60>\n",
      "<keras.layers.normalization.BatchNormalization object at 0x7fdcc45ccd30>\n",
      "<keras.layers.advanced_activations.ReLU object at 0x7fdcc4558c50>\n",
      "<keras.layers.convolutional.Conv2D object at 0x7fdcc44907f0>\n",
      "<keras.layers.normalization.BatchNormalization object at 0x7fdcc444e9e8>\n",
      "<keras.layers.advanced_activations.ReLU object at 0x7fdcc43cde48>\n",
      "<keras.layers.convolutional.DepthwiseConv2D object at 0x7fdcc43ed978>\n",
      "<keras.layers.normalization.BatchNormalization object at 0x7fdcc43ac9e8>\n",
      "<keras.layers.advanced_activations.ReLU object at 0x7fdcc4319f98>\n",
      "<keras.layers.convolutional.Conv2D object at 0x7fdcc42cec50>\n",
      "<keras.layers.normalization.BatchNormalization object at 0x7fdcc4288ba8>\n",
      "<keras.layers.advanced_activations.ReLU object at 0x7fdcc426dba8>\n",
      "\n",
      "\n",
      " Weight Size\n",
      "(1, 1, 1, 512, 512)\n"
     ]
    }
   ],
   "source": [
    "for layer in model.layers:\n",
    "    print(layer)\n",
    "    \n",
    "layer47 = model.layers[47]\n",
    "W = np.array(layer47.get_weights())\n",
    "\n",
    "print(\"\\n\\n Weight Size\")\n",
    "print(W.shape)"
   ]
  },
  {
   "cell_type": "code",
   "execution_count": null,
   "metadata": {
    "collapsed": true
   },
   "outputs": [],
   "source": [
    "def write_to_file_weights_layer_Fifteen(fileName, W):\n",
    "    fTemp = open(fileName, \"w\")\n",
    "    for i in range(1):\n",
    "        for j in range(1):\n",
    "            for k in range(512):\n",
    "                for l in range(512):\n",
    "                    fTemp.write(str(W[i][j][l][k]) + \"\\n\")\n",
    "    fTemp.close()\n"
   ]
  },
  {
   "cell_type": "code",
   "execution_count": null,
   "metadata": {},
   "outputs": [],
   "source": [
    "for layer in model.layers:\n",
    "    print(layer)\n",
    "    \n",
    "layer47 = model.layers[47]\n",
    "W = np.array(layer47.get_weights())\n",
    "print(W.shape)\n",
    "\n",
    "W = layer47.get_weights()[0]\n",
    "write_to_file_weights_layer_Fifteen(\"data/FourteenthLayer/weightsNorm.txt\", W)\n",
    "\n",
    "W[:,:,:,:] = 1\n",
    "write_to_file_weights_layer_Fifteen(\"data/FourteenthLayer/weightsSet1.txt\", W)"
   ]
  },
  {
   "cell_type": "code",
   "execution_count": null,
   "metadata": {},
   "outputs": [],
   "source": [
    "import math as m\n",
    "layer45 = model.layers[45]\n",
    "W = np.array(layer45.get_weights())\n",
    "print(W.shape)\n",
    "\n",
    "batchNorm = model.layers[45].get_weights()\n",
    "\n",
    "fMean = open(\"data/FourteenthLayer/Fourteenth_Layer_Mean.txt\", \"w\")\n",
    "fSD = open(\"data/FourteenthLayer/Fourteenth_Layer_StanDev.txt\", \"w\")\n",
    "fGamma = open(\"data/FourteenthLayer/Fourteenth_Layer_Gamma.txt\", \"w\")\n",
    "fBeta = open(\"data/FourteenthLayer/Fourteenth_Layer_Beta.txt\", \"w\")\n",
    "\n",
    "\n",
    "for i in range(len(batchNorm[0])):\n",
    "    fGamma.write(str(float(batchNorm[0][i])) + \"\\n\")\n",
    "\n",
    "for i in range(len(batchNorm[1])):\n",
    "    fBeta.write(str(float(batchNorm[1][i])) + \"\\n\")\n",
    "\n",
    "for i in range(len(batchNorm[2])):\n",
    "    fMean.write(str(float(batchNorm[2][i])) + \"\\n\")\n",
    "\n",
    "for i in range(len(batchNorm[3])):\n",
    "    # The Value for Epsilon is assumed to be 0.001 in this implementation\n",
    "    fSD.write(str(m.sqrt(float(batchNorm[3][i]) + 0.001)) + \"\\n\")\n",
    "\n",
    "\n",
    "print(batchNorm[0])\n",
    "print(batchNorm[1])\n",
    "print(batchNorm[2])\n",
    "print(batchNorm[3])\n",
    "\n",
    "fMean.close()\n",
    "fSD.close()\n",
    "fGamma.close()\n",
    "fBeta.close()\n"
   ]
  },
  {
   "cell_type": "code",
   "execution_count": null,
   "metadata": {
    "collapsed": true
   },
   "outputs": [],
   "source": [
    "def checkFile_FourteenthLayer():\n",
    "    fExp = open('data/FourteenthLayer/Fourteenth_Layer_Output.txt', 'r')\n",
    "    fAct = open('data/FourteenthLayer/output.txt', 'r')\n",
    "    \n",
    "    cExp = fExp.readlines()\n",
    "    cAct = fAct.readlines()\n",
    "    counter = 0\n",
    "    for i in range(len(cExp)):\n",
    "         if int(round(float(cAct[i].strip()))) != int(round(float(cExp[i].strip()))):\n",
    "            counter += 1\n",
    "            if(counter < 30):\n",
    "                print(str(cAct[i].strip()) + \"--->\" + str(cExp[i].strip()))\n",
    "            \n",
    "        \n",
    "    print(\"Number of mismatch - \" + str(counter))\n",
    "    \n",
    "    fExp.close()\n",
    "    fAct.close()\n",
    "    \n",
    "        "
   ]
  },
  {
   "cell_type": "code",
   "execution_count": null,
   "metadata": {},
   "outputs": [],
   "source": [
    "checkFile_FourteenthLayer()"
   ]
  },
  {
   "cell_type": "code",
   "execution_count": null,
   "metadata": {
    "collapsed": true
   },
   "outputs": [],
   "source": []
  }
 ],
 "metadata": {
  "kernelspec": {
   "display_name": "Python 3",
   "language": "python",
   "name": "python3"
  },
  "language_info": {
   "codemirror_mode": {
    "name": "ipython",
    "version": 3
   },
   "file_extension": ".py",
   "mimetype": "text/x-python",
   "name": "python",
   "nbconvert_exporter": "python",
   "pygments_lexer": "ipython3",
   "version": "3.6.8"
  }
 },
 "nbformat": 4,
 "nbformat_minor": 2
}
