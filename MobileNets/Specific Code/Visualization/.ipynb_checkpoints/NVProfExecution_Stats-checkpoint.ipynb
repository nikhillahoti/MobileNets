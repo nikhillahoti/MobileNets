{
 "cells": [
  {
   "cell_type": "code",
   "execution_count": 2,
   "metadata": {
    "collapsed": true
   },
   "outputs": [],
   "source": [
    "import matplotlib.pyplot as plt\n",
    "import numpy as np\n",
    "import pandas as pd"
   ]
  },
  {
   "cell_type": "code",
   "execution_count": 17,
   "metadata": {
    "collapsed": true
   },
   "outputs": [],
   "source": [
    "layer_names_numbers = ['11_P', '15_P', '21_P', '23_P', '17_P', '19_P', '27_P', '9_P',\n",
    "                       '3A_P', '7A_P', '13_P', '7B_P','25_P', '1A_FC', '7C_P', '5A_P',\n",
    "                       '7D_P', '29_FC', '5B_P', '5C_P']\n",
    "\n",
    "layer_names = ['executeEleventhLayer_PSC',\n",
    "               'executeFifteenthLayer_PSC',\n",
    "               'executeTwentyOneLayer_PSC', \n",
    "               'executeTwentyThreeLayer_PSC',\n",
    "               'executeSeventeenthLayer_PSC',\n",
    "               'executeNineteenthLayer_PSC', \n",
    "               'executeTwentySevenLayer_PSC',\n",
    "               'executeNinthLayer_PSC',\n",
    "               'executeThirdLayer_PSC_partA',\n",
    "               'executeSeventhLayer_PSC_partA',\n",
    "               'executeThirteenthLayer_PSC',\n",
    "               'executeSeventhLayer_PSC_partB',\n",
    "               'executeTwentyFiveLayer_PSC', \n",
    "               'executeFirstLayer_CONV3D_partA',\n",
    "               'executeSeventhLayer_PSC_partC',\n",
    "               'executeFifthLayer_PSC_partA',\n",
    "               'executeSeventhLayer_PSC_partD',\n",
    "               'executeTwentyNineLayer_FullyConnected',\n",
    "               'executeFifthLayer_PSC_partB',\n",
    "               'executeFifthLayer_PSC_partC',\n",
    "               'executeSecondLayer_DSC_partA', \n",
    "               'executeFifthLayer_PSC_partD',\n",
    "               'executeThirdLayer_PSC_partB',\n",
    "               'executeThirdLayer_PSC_partC',\n",
    "               'executeTenthLayer_DSC'\n",
    "               'executeSixthLayer_DSC_partA',\n",
    "               'executeFirstLayer_CONV3D_partB',\n",
    "               'executeEighthLayer_DSC',\n",
    "               'executeFirstLayer_CONV3D_partC',\n",
    "               'executeSixthLayer_DSC_partB',\n",
    "               'executeSixthLayer_DSC_partC',\n",
    "               'executeFourthLayer_DSC_partA',\n",
    "               'executeSixteenthLayer_DSC',\n",
    "               'executeEighteenthLayer_DSC',\n",
    "               'executeFourteenthLayer_DSC', \n",
    "               'executeTwentyLayer_DSC',\n",
    "               'executeTwentyTwoLayer_DSC',\n",
    "               'executeSixthLayer_DSC_partD',\n",
    "               'executeFourthLayer_DSC_partB', \n",
    "               'executeFourthLayer_DSC_partC',\n",
    "               'executeFourthLayer_DSC_partD',\n",
    "               'executeSecondLayer_DSC_partB',\n",
    "               'executeTwelfthLayer_DSC',\n",
    "               'executeSecondLayer_DSC_partC',\n",
    "               'executeTwentySixLayer_DSC',\n",
    "               'executeTwentyEightLayer_AvgPooling',\n",
    "               'executeTwentyFourLayer_DSC'\n",
    "              ]\n",
    "\n",
    "layer_execution_time_percentage = [\n",
    "    9.44,\n",
    "    6.61,\n",
    "    6.59,\n",
    "    6.55,\n",
    "    6.54,\n",
    "    6.54,\n",
    "    5.04,\n",
    "    4.76,\n",
    "    4.48,\n",
    "    3.65,\n",
    "    3.27,\n",
    "    2.68,\n",
    "    2.50,\n",
    "    2.18,\n",
    "    2.08,\n",
    "    1.81,\n",
    "    1.57,\n",
    "    1.54,\n",
    "    1.37,\n",
    "    1.08,\n",
    "    0.81,\n",
    "    0.81,\n",
    "    0.63,\n",
    "    0.54,\n",
    "    0.53,\n",
    "    0.36,\n",
    "    0.31,\n",
    "    0.30,\n",
    "    0.29,\n",
    "    0.27,\n",
    "    0.23,\n",
    "    0.22,\n",
    "    0.22,\n",
    "    0.22,\n",
    "    0.22,\n",
    "    0.22,\n",
    "    0.19,\n",
    "    0.19,\n",
    "    0.17,\n",
    "    0.13,\n",
    "    0.13,\n",
    "    0.13,\n",
    "    0.11,\n",
    "    0.10,\n",
    "    0.08,\n",
    "    0.06\n",
    "]\n"
   ]
  },
  {
   "cell_type": "code",
   "execution_count": 14,
   "metadata": {},
   "outputs": [
    {
     "name": "stdout",
     "output_type": "stream",
     "text": [
      "46\n",
      "46\n"
     ]
    }
   ],
   "source": [
    "print(len(layer_execution_time_percentage))\n",
    "print(len(layer_names))"
   ]
  },
  {
   "cell_type": "markdown",
   "metadata": {},
   "source": [
    "<h2> Execution Time Per Layer </h2>\n",
    "<h3> number denotes the layer number _ followed by the type of the operation performed by the layer </h3>"
   ]
  },
  {
   "cell_type": "code",
   "execution_count": 52,
   "metadata": {},
   "outputs": [
    {
     "data": {
      "image/png": "[encoded data removed]",
      "text/plain": [
       "<Figure size 720x216 with 1 Axes>"
      ]
     },
     "metadata": {},
     "output_type": "display_data"
    }
   ],
   "source": [
    "plt.bar(layer_names_numbers[:20], layer_execution_time_percentage[:20], label=\"Execution Times per Layer\" )\n",
    "plt.rcParams[\"figure.figsize\"] = (1,3)\n",
    "plt.show()"
   ]
  },
  {
   "cell_type": "code",
   "execution_count": null,
   "metadata": {
    "collapsed": true
   },
   "outputs": [],
   "source": []
  },
  {
   "cell_type": "code",
   "execution_count": null,
   "metadata": {
    "collapsed": true
   },
   "outputs": [],
   "source": []
  }
 ],
 "metadata": {
  "kernelspec": {
   "display_name": "Python 3",
   "language": "python",
   "name": "python3"
  },
  "language_info": {
   "codemirror_mode": {
    "name": "ipython",
    "version": 3
   },
   "file_extension": ".py",
   "mimetype": "text/x-python",
   "name": "python",
   "nbconvert_exporter": "python",
   "pygments_lexer": "ipython3",
   "version": "3.6.8"
  }
 },
 "nbformat": 4,
 "nbformat_minor": 2
}
