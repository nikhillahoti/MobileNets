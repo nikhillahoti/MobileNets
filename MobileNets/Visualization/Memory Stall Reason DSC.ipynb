{
 "cells": [
  {
   "cell_type": "code",
   "execution_count": 1,
   "metadata": {
    "collapsed": true
   },
   "outputs": [],
   "source": [
    "import numpy as np\n",
    "import matplotlib.pyplot as plt"
   ]
  },
  {
   "cell_type": "code",
   "execution_count": 2,
   "metadata": {
    "collapsed": true
   },
   "outputs": [],
   "source": [
    "# 7-A, 3, 9, 27, 19, 21, 23, 15, 17, 11\n",
    "instructionFetch = [\n",
    "    0.697,\n",
    "    0.909,\n",
    "    2.046,\n",
    "    0.501,\n",
    "    0.713,\n",
    "    0.568,\n",
    "    0.538,\n",
    "    0.507,\n",
    "    0.566,\n",
    "    0.567\n",
    "]\n",
    "\n",
    "executionDependency = [\n",
    "    31.74,\n",
    "    39.842,\n",
    "    19.09,\n",
    "    17.926,\n",
    "    15.767,\n",
    "    21.293,\n",
    "    18.29,\n",
    "    17.548,\n",
    "    24.179,\n",
    "    29.22\n",
    "]\n",
    "\n",
    "dataRequest = [\n",
    "    9.276,\n",
    "    6.26,\n",
    "    18.457,\n",
    "    19.904,\n",
    "    27.056,\n",
    "    16.859,\n",
    "    16.465,\n",
    "    17.807,\n",
    "    17.662,\n",
    "    13.427  \n",
    "]\n",
    "\n",
    "texture = [\n",
    "    6.345,\n",
    "    2.268,\n",
    "    12.222,\n",
    "    17.744,\n",
    "    12.266,\n",
    "    12.846,\n",
    "    20.907,\n",
    "    18.924,\n",
    "    13.837,\n",
    "    9.35\n",
    "]\n",
    "               \n",
    "others = [\n",
    "    49.187,\n",
    "    47.996,\n",
    "    43.294,\n",
    "    36.351,\n",
    "    38.449,\n",
    "    44.232,\n",
    "    40.029,\n",
    "    37.364,\n",
    "    36.943,\n",
    "    41.817\n",
    "]"
   ]
  },
  {
   "cell_type": "code",
   "execution_count": 3,
   "metadata": {},
   "outputs": [
    {
     "data": {
      "image/png": "[encoded data removed]",
      "text/plain": [
       "<Figure size 432x288 with 1 Axes>"
      ]
     },
     "metadata": {},
     "output_type": "display_data"
    },
    {
     "data": {
      "text/plain": [
       "<Figure size 864x648 with 0 Axes>"
      ]
     },
     "metadata": {},
     "output_type": "display_data"
    }
   ],
   "source": [
    "N = 10\n",
    "ind = np.arange(N)    # the x locations for the groups\n",
    "width = 0.35       # the width of the bars: can also be len(x) sequence\n",
    "\n",
    "p1 = plt.bar(ind, others, width)\n",
    "p2 = plt.bar(ind, texture, width, bottom=others)\n",
    "p3 = plt.bar(ind, dataRequest, width, bottom=others)\n",
    "p4 = plt.bar(ind, executionDependency, width, bottom=others)\n",
    "p5 = plt.bar(ind, instructionFetch, width, bottom=others)\n",
    "\n",
    "plt.xlabel('Layer Number')\n",
    "plt.ylabel('Percentage')\n",
    "plt.title('Memory Stall Reason Percentage')\n",
    "plt.xticks(ind, ('24', '26', '2-C', '4', '2-B', '12', '4-C', '4-B', '6-D', '18'))\n",
    "plt.yticks(np.arange(0, 81, 10))\n",
    "plt.legend((p1[0], p2[0], p3[0], p4[0], p5[0]), ('Others', 'Texture', 'Data Request', 'Dependency', 'Instrn Fetch'))\n",
    "\n",
    "Pltwidth = 12\n",
    "Pltheight = 9\n",
    "plt.figure(figsize=(Pltwidth, Pltheight))\n",
    "\n",
    "plt.show()"
   ]
  },
  {
   "cell_type": "code",
   "execution_count": null,
   "metadata": {
    "collapsed": true
   },
   "outputs": [],
   "source": []
  },
  {
   "cell_type": "code",
   "execution_count": null,
   "metadata": {
    "collapsed": true
   },
   "outputs": [],
   "source": []
  }
 ],
 "metadata": {
  "kernelspec": {
   "display_name": "Python 3",
   "language": "python",
   "name": "python3"
  },
  "language_info": {
   "codemirror_mode": {
    "name": "ipython",
    "version": 3
   },
   "file_extension": ".py",
   "mimetype": "text/x-python",
   "name": "python",
   "nbconvert_exporter": "python",
   "pygments_lexer": "ipython3",
   "version": "3.6.8"
  }
 },
 "nbformat": 4,
 "nbformat_minor": 2
}
