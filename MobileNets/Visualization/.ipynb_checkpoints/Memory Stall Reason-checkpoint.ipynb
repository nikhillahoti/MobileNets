{
 "cells": [
  {
   "cell_type": "code",
   "execution_count": 1,
   "metadata": {
    "collapsed": true
   },
   "outputs": [],
   "source": [
    "import numpy as np\n",
    "import matplotlib.pyplot as plt\n"
   ]
  },
  {
   "cell_type": "code",
   "execution_count": 10,
   "metadata": {
    "collapsed": true
   },
   "outputs": [],
   "source": [
    "# 7-A, 3, 9, 27, 19, 21, 23, 15, 17, 11\n",
    "instructionFetch = [\n",
    "    executionDependency[0] + 0.235,\n",
    "    executionDependency[1] + 0.31,\n",
    "    executionDependency[2] + 0.311,\n",
    "    executionDependency[3] + 0.32,\n",
    "    executionDependency[4] + 0.443,\n",
    "    executionDependency[5] + 0.446,\n",
    "    executionDependency[6] + 0.45,\n",
    "    executionDependency[7] + 0.448,\n",
    "    executionDependency[8] + 0.439,\n",
    "    executionDependency[9] + 0.326\n",
    "]\n",
    "\n",
    "executionDependency = [\n",
    "    dataRequest[0] + 2.591,\n",
    "    dataRequest[1] + 2.934,\n",
    "    dataRequest[2] + 3.189,\n",
    "    dataRequest[3] + 6.785,\n",
    "    dataRequest[4] + 3.584,\n",
    "    dataRequest[5] + 3.613,\n",
    "    dataRequest[6] + 3.777,\n",
    "    dataRequest[7] + 3.604,\n",
    "    dataRequest[8] + 3.599,\n",
    "    dataRequest[9] + 3.314\n",
    "]\n",
    "\n",
    "dataRequest = [\n",
    "    texture[0] + 23.888,\n",
    "    texture[1] + 26.746,\n",
    "    texture[2] + 30.604,\n",
    "    texture[3] + 38.854,\n",
    "    texture[4] + 27.896,\n",
    "    texture[5] + 27.78,\n",
    "    texture[6] + 27.61,\n",
    "    texture[7] + 27.785,\n",
    "    texture[8] + 27.757,\n",
    "    texture[9] + 29.757    \n",
    "]\n",
    "\n",
    "texture = [\n",
    "    others[0] + 20.393,\n",
    "    others[1] + 21.605,\n",
    "    others[2] + 23.104,\n",
    "    others[3] + 15.306,\n",
    "    others[4] + 19.587,\n",
    "    others[5] + 19.508,\n",
    "    others[6] + 19.315,\n",
    "    others[7] + 19.51,\n",
    "    others[8] + 19.453,\n",
    "    others[9] + 23.2\n",
    "]\n",
    "               \n",
    "others = [\n",
    "    51.862,\n",
    "    45.165,\n",
    "    41.965,\n",
    "    38.703,\n",
    "    48.332,\n",
    "    48.825,\n",
    "    48.294,\n",
    "    48.749,\n",
    "    48.087,\n",
    "    43.159\n",
    "]"
   ]
  },
  {
   "cell_type": "code",
   "execution_count": 13,
   "metadata": {
    "collapsed": true
   },
   "outputs": [],
   "source": [
    "# 7-A, 3, 9, 27, 19, 21, 23, 15, 17, 11\n",
    "instructionFetch = [\n",
    "    0.235,\n",
    "    0.31,\n",
    "    0.311,\n",
    "    0.32,\n",
    "    0.443,\n",
    "    0.446,\n",
    "    0.45,\n",
    "    0.448,\n",
    "    0.439,\n",
    "    0.326\n",
    "]\n",
    "\n",
    "executionDependency = [\n",
    "    2.591,\n",
    "    2.934,\n",
    "    3.189,\n",
    "    6.785,\n",
    "    3.584,\n",
    "    3.613,\n",
    "    3.777,\n",
    "    3.604,\n",
    "    3.599,\n",
    "    3.314\n",
    "]\n",
    "\n",
    "dataRequest = [\n",
    "    23.888,\n",
    "    26.746,\n",
    "    30.604,\n",
    "    38.854,\n",
    "    27.896,\n",
    "    27.78,\n",
    "    27.61,\n",
    "    27.785,\n",
    "    27.757,\n",
    "    29.757    \n",
    "]\n",
    "\n",
    "texture = [\n",
    "    20.393,\n",
    "    21.605,\n",
    "    23.104,\n",
    "    15.306,\n",
    "    19.587,\n",
    "    19.508,\n",
    "    19.315,\n",
    "    19.51,\n",
    "    19.453,\n",
    "    23.2\n",
    "]\n",
    "               \n",
    "others = [\n",
    "    51.862,\n",
    "    45.165,\n",
    "    41.965,\n",
    "    38.703,\n",
    "    48.332,\n",
    "    48.825,\n",
    "    48.294,\n",
    "    48.749,\n",
    "    48.087,\n",
    "    43.159\n",
    "]"
   ]
  },
  {
   "cell_type": "code",
   "execution_count": 14,
   "metadata": {},
   "outputs": [
    {
     "data": {
      "image/png": "[encoded data removed]",
      "text/plain": [
       "<Figure size 432x288 with 1 Axes>"
      ]
     },
     "metadata": {},
     "output_type": "display_data"
    }
   ],
   "source": [
    "N = 10\n",
    "ind = np.arange(N)    # the x locations for the groups\n",
    "width = 0.35       # the width of the bars: can also be len(x) sequence\n",
    "\n",
    "p1 = plt.bar(ind, others, width)\n",
    "p2 = plt.bar(ind, texture, width, bottom=others)\n",
    "p3 = plt.bar(ind, dataRequest, width, bottom=others)\n",
    "p4 = plt.bar(ind, executionDependency, width, bottom=others)\n",
    "p5 = plt.bar(ind, instructionFetch, width, bottom=others)\n",
    "\n",
    "plt.ylabel('Layer Number')\n",
    "plt.ylabel('Percentage')\n",
    "plt.title('Memory Stall Reason Percentage')\n",
    "plt.xticks(ind, ('7-A', '3', '9', '27', '19', '21', '23', '15', '17', '11'))\n",
    "plt.yticks(np.arange(0, 81, 10))\n",
    "plt.legend((p1[0], p2[0], p3[0], p4[0], p5[0]), ('Others', 'Texture', 'Data Request', 'Dependency', 'Instrn Fetch'))\n",
    "\n",
    "plt.show()"
   ]
  },
  {
   "cell_type": "code",
   "execution_count": null,
   "metadata": {
    "collapsed": true
   },
   "outputs": [],
   "source": []
  }
 ],
 "metadata": {
  "kernelspec": {
   "display_name": "Python 3",
   "language": "python",
   "name": "python3"
  },
  "language_info": {
   "codemirror_mode": {
    "name": "ipython",
    "version": 3
   },
   "file_extension": ".py",
   "mimetype": "text/x-python",
   "name": "python",
   "nbconvert_exporter": "python",
   "pygments_lexer": "ipython3",
   "version": "3.6.8"
  }
 },
 "nbformat": 4,
 "nbformat_minor": 2
}
